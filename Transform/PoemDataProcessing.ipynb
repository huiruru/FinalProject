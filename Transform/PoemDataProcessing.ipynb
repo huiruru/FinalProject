{
 "cells": [
  {
   "cell_type": "code",
   "execution_count": 1,
   "metadata": {
    "collapsed": false
   },
   "outputs": [],
   "source": [
    "import pandas as pd\n",
    "import numpy as np\n",
    "import inflect\n",
    "\n",
    "from pymongo import MongoClient\n",
    "\n",
    "import re\n",
    "\n",
    "#fixed issue with ascii encoding errors\n",
    "import sys\n",
    "\n",
    "# reload(sys)\n",
    "# sys.setdefaultencoding(\"utf-8\")\n",
    "#TODO: countvectorizer (ignores punctuation), nltk tokenizer\n",
    "\n",
    "import ExtractHelper as eh\n",
    "import time"
   ]
  },
  {
   "cell_type": "code",
   "execution_count": 2,
   "metadata": {
    "collapsed": true
   },
   "outputs": [],
   "source": [
    "?eh.unpack_dictionary()"
   ]
  },
  {
   "cell_type": "code",
   "execution_count": 3,
   "metadata": {
    "collapsed": true
   },
   "outputs": [],
   "source": [
    "#code to put data from mongodb named Poetry\n",
    "client = MongoClient()\n",
    "client = MongoClient('localhost', 27017)\n",
    "db = client.POETRY\n",
    "poems = db.POEM\n",
    "poemsdf = pd.DataFrame(list(poems.find()))"
   ]
  },
  {
   "cell_type": "markdown",
   "metadata": {},
   "source": [
    "## some poem videos made it in the data so we need to remove them"
   ]
  },
  {
   "cell_type": "code",
   "execution_count": 5,
   "metadata": {
    "collapsed": false
   },
   "outputs": [],
   "source": [
    "poemsdf.columns\n",
    "coltouse = ['poem_link', 'poet_poems_url','poem_yrpub','poem_title','poem_text']\n",
    "# poemdf = rawpoem.loc[rawpoem['poem_title'] ][coltouse]\n",
    "\n",
    "poemsdf = poemsdf.loc[poemsdf['poem_link'].str.contains('video') == False]\n",
    "poemsdf = poemsdf[coltouse]"
   ]
  },
  {
   "cell_type": "code",
   "execution_count": 6,
   "metadata": {
    "collapsed": false
   },
   "outputs": [
    {
     "data": {
      "text/html": [
       "<div>\n",
       "<table border=\"1\" class=\"dataframe\">\n",
       "  <thead>\n",
       "    <tr style=\"text-align: right;\">\n",
       "      <th></th>\n",
       "      <th>poem_link</th>\n",
       "      <th>poet_poems_url</th>\n",
       "      <th>poem_yrpub</th>\n",
       "      <th>poem_title</th>\n",
       "      <th>poem_text</th>\n",
       "    </tr>\n",
       "  </thead>\n",
       "  <tbody>\n",
       "    <tr>\n",
       "      <th>1</th>\n",
       "      <td>http://www.poets.org/poetsorg/poem/te-deum</td>\n",
       "      <td>http://www.poets.org/poetsorg/poems/45091</td>\n",
       "      <td>1976</td>\n",
       "      <td>Te Deum</td>\n",
       "      <td>[\\nNot because of victories\\nI sing,\\nhaving n...</td>\n",
       "    </tr>\n",
       "    <tr>\n",
       "      <th>2</th>\n",
       "      <td>http://www.poets.org/poetsorg/poem/notes-sprin...</td>\n",
       "      <td>http://www.poets.org/poetsorg/poems/45091</td>\n",
       "      <td>1976</td>\n",
       "      <td>Notes on the Spring Holidays, III, [Hanukkah]</td>\n",
       "      <td>[\\nIII\\n, Hanukkah, \\n\\nIn a world where each ...</td>\n",
       "    </tr>\n",
       "    <tr>\n",
       "      <th>3</th>\n",
       "      <td>http://www.poets.org/poetsorg/poem/coda-0</td>\n",
       "      <td>http://www.poets.org/poetsorg/poems/45669</td>\n",
       "      <td>1916</td>\n",
       "      <td>Coda</td>\n",
       "      <td>[O my songs,, Why do you look so eagerly and s...</td>\n",
       "    </tr>\n",
       "    <tr>\n",
       "      <th>4</th>\n",
       "      <td>http://www.poets.org/poetsorg/poem/my-philosop...</td>\n",
       "      <td>http://www.poets.org/poetsorg/poems/45448</td>\n",
       "      <td>1995</td>\n",
       "      <td>My Philosophy of Life</td>\n",
       "      <td>[\\nJust when I thought there wasn't room enoug...</td>\n",
       "    </tr>\n",
       "    <tr>\n",
       "      <th>5</th>\n",
       "      <td>http://www.poets.org/poetsorg/poem/night-states</td>\n",
       "      <td>http://www.poets.org/poetsorg/poems/44618</td>\n",
       "      <td>2006</td>\n",
       "      <td>At Night the States</td>\n",
       "      <td>[\\nAt night the states\\nI forget them or I wis...</td>\n",
       "    </tr>\n",
       "  </tbody>\n",
       "</table>\n",
       "</div>"
      ],
      "text/plain": [
       "                                           poem_link  \\\n",
       "1         http://www.poets.org/poetsorg/poem/te-deum   \n",
       "2  http://www.poets.org/poetsorg/poem/notes-sprin...   \n",
       "3          http://www.poets.org/poetsorg/poem/coda-0   \n",
       "4  http://www.poets.org/poetsorg/poem/my-philosop...   \n",
       "5    http://www.poets.org/poetsorg/poem/night-states   \n",
       "\n",
       "                              poet_poems_url poem_yrpub  \\\n",
       "1  http://www.poets.org/poetsorg/poems/45091       1976   \n",
       "2  http://www.poets.org/poetsorg/poems/45091       1976   \n",
       "3  http://www.poets.org/poetsorg/poems/45669       1916   \n",
       "4  http://www.poets.org/poetsorg/poems/45448       1995   \n",
       "5  http://www.poets.org/poetsorg/poems/44618       2006   \n",
       "\n",
       "                                      poem_title  \\\n",
       "1                                        Te Deum   \n",
       "2  Notes on the Spring Holidays, III, [Hanukkah]   \n",
       "3                                           Coda   \n",
       "4                          My Philosophy of Life   \n",
       "5                            At Night the States   \n",
       "\n",
       "                                           poem_text  \n",
       "1  [\\nNot because of victories\\nI sing,\\nhaving n...  \n",
       "2  [\\nIII\\n, Hanukkah, \\n\\nIn a world where each ...  \n",
       "3  [O my songs,, Why do you look so eagerly and s...  \n",
       "4  [\\nJust when I thought there wasn't room enoug...  \n",
       "5  [\\nAt night the states\\nI forget them or I wis...  "
      ]
     },
     "execution_count": 6,
     "metadata": {},
     "output_type": "execute_result"
    }
   ],
   "source": [
    "poemsdf.head()"
   ]
  },
  {
   "cell_type": "code",
   "execution_count": 21,
   "metadata": {
    "collapsed": false
   },
   "outputs": [],
   "source": [
    "#compute the feature variables, number of lines, and number of stanzas\n",
    "poemsdf['numlines'] = poemsdf['poem_text'].apply(lambda x: eh.countlines(x))\n",
    "poemsdf['numstanzas'] = poemsdf['poem_text'].apply(lambda x: eh.countstanza(x))"
   ]
  },
  {
   "cell_type": "code",
   "execution_count": 23,
   "metadata": {
    "collapsed": false
   },
   "outputs": [
    {
     "data": {
      "text/plain": [
       "poet_poems_url\n",
       "http://www.poets.org/poetsorg/poems/120970    1\n",
       "http://www.poets.org/poetsorg/poems/120979    1\n",
       "http://www.poets.org/poetsorg/poems/120986    1\n",
       "http://www.poets.org/poetsorg/poems/121506    1\n",
       "http://www.poets.org/poetsorg/poems/123231    1\n",
       "Name: numstanzas, dtype: float64"
      ]
     },
     "execution_count": 23,
     "metadata": {},
     "output_type": "execute_result"
    }
   ],
   "source": [
    "#just a quick look\n",
    "# poemdf.numlines\n",
    "poemsdf.groupby(['poet_poems_url'])['numstanzas'].mean()[:5]"
   ]
  },
  {
   "cell_type": "code",
   "execution_count": 25,
   "metadata": {
    "collapsed": false
   },
   "outputs": [],
   "source": [
    "#create feature variable that looks at the average number of lines per stanza for each poem_text\n",
    "poemsdf['avgline_stanza'] = poemsdf['numlines']/poemsdf['numstanzas']"
   ]
  },
  {
   "cell_type": "code",
   "execution_count": 26,
   "metadata": {
    "collapsed": false
   },
   "outputs": [],
   "source": [
    "?eh.count_words()          "
   ]
  },
  {
   "cell_type": "code",
   "execution_count": 27,
   "metadata": {
    "collapsed": false
   },
   "outputs": [],
   "source": [
    "#create feature variables, wordcount = total number of words, wordcount_d = number of distinct words\n",
    "#create feature variable ttr = type token ratio as a ratio wordcount_d:wordcount\n",
    "poemsdf['wordcount'] = poemsdf['poem_text'].apply(lambda x: eh.count_words(x))\n",
    "poemsdf['wordcount_d'] = poemsdf['poem_text'].apply(lambda x: eh.count_words(x,True))\n",
    "poemsdf['ttr'] = poemsdf['wordcount_d']/poemsdf['wordcount']"
   ]
  },
  {
   "cell_type": "code",
   "execution_count": 28,
   "metadata": {
    "collapsed": true
   },
   "outputs": [],
   "source": [
    "?eh.grab_numerical()"
   ]
  },
  {
   "cell_type": "code",
   "execution_count": 29,
   "metadata": {
    "collapsed": false
   },
   "outputs": [],
   "source": [
    "#create feature variable - the year published for each poem\n",
    "poemsdf['yrpub'] = poemsdf['poem_yrpub'].map(lambda x: eh.grab_numerical(x))"
   ]
  },
  {
   "cell_type": "code",
   "execution_count": 36,
   "metadata": {
    "collapsed": false
   },
   "outputs": [],
   "source": [
    "?eh.sent_tokenize()"
   ]
  },
  {
   "cell_type": "code",
   "execution_count": 37,
   "metadata": {
    "collapsed": false
   },
   "outputs": [],
   "source": [
    "#create a column of just tokenized sentences from the poem text\n",
    "poemsdf['sentences'] = poemsdf['poem_text'].map(lambda x: eh.sent_tokenize(u' '.join(x)))"
   ]
  },
  {
   "cell_type": "code",
   "execution_count": 40,
   "metadata": {
    "collapsed": false
   },
   "outputs": [],
   "source": [
    "#check\n",
    "# poemsdf.sentences.apply(lambda x: len(x))\n",
    "# print poemsdf.sentences[12]"
   ]
  },
  {
   "cell_type": "code",
   "execution_count": 41,
   "metadata": {
    "collapsed": false
   },
   "outputs": [],
   "source": [
    "#create feature variable for the number of sentences in each poem text\n",
    "poemsdf['num_sentences']= poemsdf['sentences'].map(lambda x: len(x))"
   ]
  },
  {
   "cell_type": "code",
   "execution_count": 43,
   "metadata": {
    "collapsed": false
   },
   "outputs": [],
   "source": [
    "?eh.abstraction_score()"
   ]
  },
  {
   "cell_type": "code",
   "execution_count": 44,
   "metadata": {
    "collapsed": false
   },
   "outputs": [],
   "source": [
    "#create feature variables, one a regular abstraction score, the other using lesk algorithm for basic word sense\n",
    "#disambiguation\n",
    "#Each calculation takes about 10 minutes to run, the following lines of code should take about 20 minutes\n",
    "\n",
    "#start a timer clock for fun\n",
    "t0= time.clock()\n",
    "poemsdf['abstraction_score'] = poemsdf['sentences'].apply(lambda x: eh.abstraction_score(x))\n",
    "print time.clock() - t0, \"seconds process time\"\n",
    "\n",
    "t0= time.clock()\n",
    "poemsdf['lesk_abs_score'] = poemsdf['sentences'].apply(lambda x: eh.abstraction_score(x, True))\n",
    "print time.clock() - t0, \"seconds process time\""
   ]
  },
  {
   "cell_type": "code",
   "execution_count": 45,
   "metadata": {
    "collapsed": false
   },
   "outputs": [],
   "source": [
    "?eh.pronoun_score()"
   ]
  },
  {
   "cell_type": "code",
   "execution_count": 46,
   "metadata": {
    "collapsed": false
   },
   "outputs": [],
   "source": [
    "#this might take a while\n",
    "t0= time.clock()\n",
    "poemsdf['pronoun_score'] = poemsdf['sentences'].map(lambda x: eh.pronoun_score(x))\n",
    "print time.clock() - t0, \"seconds process time\"\n",
    "t0= time.clock()\n",
    "poemsdf['pronoun_score'] = poemsdf['pronoun_score']/poemsdf['num_sentences']\n",
    "print time.clock() - t0, \"seconds process time\""
   ]
  },
  {
   "cell_type": "code",
   "execution_count": 48,
   "metadata": {
    "collapsed": false
   },
   "outputs": [
    {
     "data": {
      "text/plain": [
       "Index([        u'poem_link',    u'poet_poems_url',        u'poem_yrpub',\n",
       "              u'poem_title',         u'poem_text',          u'numlines',\n",
       "              u'numstanzas',    u'avgline_stanza',         u'wordcount',\n",
       "             u'wordcount_d',               u'ttr',             u'yrpub',\n",
       "               u'sentences',     u'num_sentences', u'abstraction_score',\n",
       "          u'lesk_abs_score',     u'pronoun_score'],\n",
       "      dtype='object')"
      ]
     },
     "execution_count": 48,
     "metadata": {},
     "output_type": "execute_result"
    }
   ],
   "source": [
    "poemsdf.columns\n",
    "# poemdf['bio_sents'] = poemdf['poet_bio'].map(lambda x: sent_tokenize(u''.join(x)))\n",
    "# poemdf.columns\n",
    "#looking around to see if anything can be done with the poet bios\n",
    "# text = poemdf.bio_sents[15]\n",
    "# text[0]"
   ]
  },
  {
   "cell_type": "code",
   "execution_count": 50,
   "metadata": {
    "collapsed": false
   },
   "outputs": [],
   "source": [
    "# Look at relationship between words in title and words in text?\n",
    "\n",
    "#abstraction score of title using lesk\n",
    "#assume each title is a sentence/phrase\n",
    "poemsdf['title_clean'] = poemsdf['poem_title'].map(lambda x: u''.join(x).replace('[','').replace(']',''))\n",
    "#just checking if anything can be done\n",
    "poemsdf['title_lesk_abs'] = poemsdf['title_clean'].map(lambda x: eh.abstraction_score(x, True))"
   ]
  },
  {
   "cell_type": "code",
   "execution_count": 67,
   "metadata": {
    "collapsed": false
   },
   "outputs": [
    {
     "data": {
      "text/plain": [
       "Index([        u'poem_link',    u'poet_poems_url',        u'poem_yrpub',\n",
       "              u'poem_title',         u'poem_text',          u'numlines',\n",
       "              u'numstanzas',    u'avgline_stanza',         u'wordcount',\n",
       "             u'wordcount_d',               u'ttr',             u'yrpub',\n",
       "               u'sentences',     u'num_sentences', u'abstraction_score',\n",
       "          u'lesk_abs_score',     u'pronoun_score',       u'title_clean',\n",
       "          u'title_lesk_abs', u'conjunction_ratio'],\n",
       "      dtype='object')"
      ]
     },
     "execution_count": 67,
     "metadata": {},
     "output_type": "execute_result"
    }
   ],
   "source": [
    "poemsdf.columns"
   ]
  },
  {
   "cell_type": "markdown",
   "metadata": {},
   "source": [
    "##CALCULATE PHRASE COMPLEXITY\n",
    "\n",
    "What is a noun phrase?\n",
    "e.g. \"head of lettuce\", \"creaky door\", \"Fred's bagel express\"; noun is the head or main word\n",
    "\n",
    "What is an adjective phrase?\n",
    "An adjective phrase (or adjectival phrase) is a phrase whose head word is an adjective, e.g. fond of steak, very happy, quite upset about it, etc.\n",
    "\n",
    "Adverb Adjective\n",
    "Adjective Preposition Noun\n",
    "Adverb Adjective Preposition Noun\n",
    "\n",
    "What is a verb phrase?\n",
    "A verb phrase is a syntactic unit composed of at least one verb and its dependents—objects, complements and other modifiers—but not always including the subject.\n",
    "\n",
    "verb noun\n",
    "verb verb noun"
   ]
  },
  {
   "cell_type": "code",
   "execution_count": 66,
   "metadata": {
    "collapsed": true
   },
   "outputs": [],
   "source": [
    "#CREATE FEATURE Conjunction_ratio\n",
    "t0= time.clock()\n",
    "poemsdf['conjunction_ratio'] = poemsdf['sentences'].apply(lambda x: eh.conjunction_ratio(x))\n",
    "print time.clock() - t0, \"seconds process time\""
   ]
  },
  {
   "cell_type": "code",
   "execution_count": 68,
   "metadata": {
    "collapsed": false
   },
   "outputs": [],
   "source": [
    "# ?eh.naive_enj_score()\n",
    "\n",
    "t0= time.clock()\n",
    "poemsdf['enj_score'] = poemsdf['sentences'].apply(lambda x: eh.naive_enj_score(x))\n",
    "print time.clock() - t0, \"seconds process time cacl enjambment score\"\n",
    "\n",
    "#CREATE FEATURES Noun, Adjective, Verb Phrasal Ratios - about 20-25 min each to run\n",
    "\n",
    "t0= time.clock()\n",
    "poemsdf['nps_ratio'] = poemsdf['sentences'].apply(lambda x: eh.p_ratio(x,'nps'))\n",
    "print time.clock() - t0, \"seconds process time calc p_ratio\"\n",
    "t0= time.clock()\n",
    "poemsdf['vps_ratio'] = poemsdf['sentences'].apply(lambda x: eh.p_ratio(x,'vps'))\n",
    "print time.clock() - t0, \"seconds process time calc p_ratio\"\n",
    "t0= time.clock()\n",
    "poemsdf['aps_ratio']= poemsdf['sentences'].apply(lambda x: eh.p_ratio(x,'aps'))\n",
    "print time.clock() - t0, \"seconds process time calc p_ratio\"\n",
    "\n",
    "#CREATE FEATURES Noun, Adjective, Verb Phrasal Complexity Scores - about 10-15 min to run\n",
    "\n",
    "t0= time.clock()\n",
    "poemsdf['avg_nps_cscore'] = poemsdf['sentences'].apply(lambda x: eh.average_phrasal_complexity(x,'nps'))\n",
    "print time.clock() - t0, \"seconds process time\"\n",
    "t0= time.clock()\n",
    "poemsdf['avg_vps_cscore'] = poemsdf['sentences'].apply(lambda x: eh.average_phrasal_complexity(x,'vps'))\n",
    "print time.clock() - t0, \"seconds process time\"\n",
    "t0= time.clock()\n",
    "poemsdf['avg_aps_cscore']= poemsdf['sentences'].apply(lambda x: eh.average_phrasal_complexity(x,'aps'))\n",
    "print time.clock() - t0, \"seconds process time\""
   ]
  },
  {
   "cell_type": "code",
   "execution_count": 4,
   "metadata": {
    "collapsed": true
   },
   "outputs": [],
   "source": [
    "# poemsdf = pd.to_pickle('/Users/huiru/GADataScience/FinalProject/Data/poemsdf.pkl')\n",
    "poemsdf = pd.read_pickle('/Users/huiru/GADataScience/FinalProject/Data/poemsdf.pkl')"
   ]
  },
  {
   "cell_type": "code",
   "execution_count": 52,
   "metadata": {
    "collapsed": false
   },
   "outputs": [],
   "source": [
    "extradf = poemsdf[['poem_link', 'sentences']]"
   ]
  },
  {
   "cell_type": "code",
   "execution_count": 65,
   "metadata": {
    "collapsed": false
   },
   "outputs": [],
   "source": [
    "t0= time.clock()\n",
    "extradf['phrasalfreq'] = extradf['sentences'].apply(lambda x: eh.phrasal_freq(x))\n",
    "print time.clock() - t0, \"seconds process time\""
   ]
  },
  {
   "cell_type": "code",
   "execution_count": 66,
   "metadata": {
    "collapsed": false
   },
   "outputs": [
    {
     "data": {
      "text/plain": [
       "1464"
      ]
     },
     "execution_count": 66,
     "metadata": {},
     "output_type": "execute_result"
    }
   ],
   "source": [
    "#1464\n",
    "len(extradf)"
   ]
  },
  {
   "cell_type": "code",
   "execution_count": 94,
   "metadata": {
    "collapsed": false
   },
   "outputs": [],
   "source": [
    "extradf2 = eh.unpack_dictionary(extradf, 'phrasalfreq', fillna = 0.0)"
   ]
  },
  {
   "cell_type": "code",
   "execution_count": 100,
   "metadata": {
    "collapsed": false
   },
   "outputs": [],
   "source": [
    "# extradf2.dtypes\n",
    "# poemsdf = \n",
    "poemsdf = pd.merge(poemsdf, extradf2, how='inner', on=['poem_link'])"
   ]
  },
  {
   "cell_type": "code",
   "execution_count": 103,
   "metadata": {
    "collapsed": false
   },
   "outputs": [
    {
     "data": {
      "text/plain": [
       "Index([        u'poem_link',    u'poet_poems_url',        u'poem_yrpub',\n",
       "              u'poem_title',         u'poem_text',          u'numlines',\n",
       "              u'numstanzas',    u'avgline_stanza',         u'wordcount',\n",
       "             u'wordcount_d',               u'ttr',             u'yrpub',\n",
       "             u'sentences_x',     u'num_sentences', u'abstraction_score',\n",
       "          u'lesk_abs_score',     u'pronoun_score',       u'title_clean',\n",
       "          u'title_lesk_abs', u'conjunction_ratio',         u'enj_score',\n",
       "               u'nps_ratio',         u'vps_ratio',         u'aps_ratio',\n",
       "          u'avg_nps_cscore',    u'avg_vps_cscore',    u'avg_aps_cscore',\n",
       "             u'10_w_nps_fr',       u'11_w_nps_fr',       u'12_w_nps_fr',\n",
       "             u'13_w_nps_fr',       u'14_w_nps_fr',       u'15_w_nps_fr',\n",
       "             u'16_w_nps_fr',        u'1_w_nps_fr',       u'29_w_nps_fr',\n",
       "              u'2_w_nps_fr',       u'34_w_nps_fr',        u'3_w_nps_fr',\n",
       "              u'4_w_nps_fr',        u'5_w_nps_fr',        u'6_w_nps_fr',\n",
       "             u'78_w_nps_fr',        u'7_w_nps_fr',        u'8_w_nps_fr',\n",
       "              u'9_w_nps_fr'],\n",
       "      dtype='object')"
      ]
     },
     "execution_count": 103,
     "metadata": {},
     "output_type": "execute_result"
    }
   ],
   "source": [
    "poemsdf.drop('sentences_y', axis = 1, inplace = True)\n",
    "poemsdf.columns"
   ]
  },
  {
   "cell_type": "code",
   "execution_count": 112,
   "metadata": {
    "collapsed": false
   },
   "outputs": [],
   "source": [
    "# 29, 34, and 78 are outliers lets take look at the poems in there and drop them\n",
    "poemsdf = poemsdf.loc[poemsdf['78_w_nps_fr']==0] # only one poem has this and its because nltk can't POS correctly\n",
    "poemsdf = poemsdf.loc[poemsdf['34_w_nps_fr']==0] # this is an excerpt of a poem, can drop\n",
    "poemsdf = poemsdf.loc[poemsdf['29_w_nps_fr']==0] # nltk pos def fails on this one, can drop"
   ]
  },
  {
   "cell_type": "code",
   "execution_count": 114,
   "metadata": {
    "collapsed": false
   },
   "outputs": [],
   "source": [
    "poemsdf.drop(['78_w_nps_fr','34_w_nps_fr','29_w_nps_fr'], axis = 1, inplace = True)"
   ]
  },
  {
   "cell_type": "code",
   "execution_count": 116,
   "metadata": {
    "collapsed": false
   },
   "outputs": [],
   "source": [
    "poemsdf.columns\n",
    "poemsdf = pd.to_pickle('/Users/huiru/GADataScience/FinalProject/Data/poemsdf.pkl')\n",
    "\n",
    "#Combine cleaned poet dataframe and poem data frame based on the foreign key identifier, poet_poems_url\n",
    "poetdf = pd.read_pickle('/Users/huiru/GADataScience/FinalProject/Data/poetdf.pkl')\n",
    "resultdf = pd.merge(poetdf, poemsdf, how='inner', on=['poet_poems_url'])"
   ]
  },
  {
   "cell_type": "code",
   "execution_count": 2,
   "metadata": {
    "collapsed": false
   },
   "outputs": [],
   "source": [
    "# resultdf.to_pickle('/Users/huiru/GADataScience/FinalProject/Data/resultdf.pkl')\n",
    "resultdf = pd.read_pickle('/Users/huiru/GADataScience/FinalProject/Data/resultdf.pkl')"
   ]
  },
  {
   "cell_type": "markdown",
   "metadata": {},
   "source": [
    "Split tagged poems into groups\n",
    "\n",
    "1.  Experimental \n",
    "    Surrealism – dreamy, used methods like automatic writing (free write), self induced hallucinations, “close observation of the dream state and free play of thought”\n",
    "    Symbolists – “structures and conceits are built upon grand, illogical, intuitive associations”\n",
    "    New York School – influenced by surrealism & abstract expressionist art, urban\n",
    "    Concrete Poetry – visual poems, structure/shape of the poem important\n",
    "    Language Poetry – language dictates meaning, reader involvement\n",
    "    Imagism – clarity of expression through precise visual images\n",
    "    Jazz Poetry – Jazz as poetic inspiration\n",
    "    Black Mountain – projective verse, remove subjective, project onto the reader\n",
    "    Conceptual poetry – uncreative, appropriation, the process as poetry\n",
    "\n",
    "2.  Contemporary, Objectivsts\n",
    "\n",
    "3.  Modern\n",
    "    Modernism\n",
    "    Beat – against conformity, against tradition\n",
    "    SanFrancisco Renaissance – responding to wars and cultural environment\n",
    "    Harlem Renaissance – African American identity\n",
    "    Black arts – civil rights movement, explored African American cultural/historical\n",
    "    Darkroom Collective – poets of color\n",
    "    Confessional Poetry – personal, subjective\n",
    "    Slam/Spokenword – personal subjective\n",
    "\n",
    "4.  Traditional-Pure\n",
    "    Formalism, \n",
    "    New Formalism – return to traditional forms, meter, rhyme, stanzaic forms\n",
    "    FiresidePoet – conventional forms, non experimental, attention to rhymes, metrical cadence"
   ]
  },
  {
   "cell_type": "code",
   "execution_count": 3,
   "metadata": {
    "collapsed": false
   },
   "outputs": [],
   "source": [
    "resultdf['primary_tag'].value_counts()\n",
    "\n",
    "# ##lets label by contemporary or not to make this easy on ourselves\n",
    "resultdf['label'] = resultdf['primary_tag'].map(lambda x: eh.labler(x))\n",
    "\n",
    "resultdf.to_pickle('/Users/huiru/GADataScience/FinalProject/Data/labeleddf.pkl')"
   ]
  },
  {
   "cell_type": "code",
   "execution_count": 4,
   "metadata": {
    "collapsed": true
   },
   "outputs": [],
   "source": [
    "resultdf= pd.read_pickle('/Users/huiru/GADataScience/FinalProject/Data/labeleddf.pkl')\n",
    "?eh.labler()"
   ]
  },
  {
   "cell_type": "code",
   "execution_count": 5,
   "metadata": {
    "collapsed": false
   },
   "outputs": [],
   "source": [
    "##alternatively, put string labels on as a separate df/pickle file\n",
    "strlabeledf = resultdf\n",
    "strlabeledf['strlabel'] = strlabeledf['primary_tag'].map(lambda x: eh.labler(x,True))"
   ]
  },
  {
   "cell_type": "code",
   "execution_count": 6,
   "metadata": {
    "collapsed": false
   },
   "outputs": [],
   "source": [
    "strlabeledf = strlabeledf.query('strlabel != \"\"')"
   ]
  },
  {
   "cell_type": "code",
   "execution_count": 7,
   "metadata": {
    "collapsed": false
   },
   "outputs": [
    {
     "data": {
      "text/plain": [
       "Contemp    736\n",
       "Exp        370\n",
       "Modern     270\n",
       "Trad        64\n",
       "dtype: int64"
      ]
     },
     "execution_count": 7,
     "metadata": {},
     "output_type": "execute_result"
    }
   ],
   "source": [
    "strlabeledf.strlabel.value_counts()"
   ]
  },
  {
   "cell_type": "code",
   "execution_count": 8,
   "metadata": {
    "collapsed": false
   },
   "outputs": [
    {
     "data": {
      "text/plain": [
       "1    736\n",
       "0    704\n",
       "dtype: int64"
      ]
     },
     "execution_count": 8,
     "metadata": {},
     "output_type": "execute_result"
    }
   ],
   "source": [
    "# resultdf.label.value_counts()\n",
    "resultdf = resultdf.query('primary_tag != \"MetaphysicalPoet\"')\n",
    "resultdf.label.value_counts()"
   ]
  },
  {
   "cell_type": "code",
   "execution_count": 9,
   "metadata": {
    "collapsed": false
   },
   "outputs": [],
   "source": [
    "stringcols = ['poet_name','poet_url','poet_poems_url','poet_bio','city','state','country','primary_tag','tags','tag2','tag3','tag4','poem_yrpub','poem_link', 'poem_title', 'title_clean','poem_text', 'sentences_x']\n",
    "resultdf.dtypes[20:]\n",
    "#EXCLUDE wordcount, wordcount_d\n",
    "numerical = ['yr_born', 'yr_died','yrpub', 'numlines','numstanzas' ,'avgline_stanza','enj_score','ttr',\n",
    "             'abstraction_score', 'lesk_abs_score', 'pronoun_score', 'title_lesk_abs', 'conjunction_ratio',\n",
    "             'nps_ratio','vps_ratio','aps_ratio','avg_nps_cscore','avg_vps_cscore','avg_aps_cscore',\n",
    "             '1_w_nps_fr','2_w_nps_fr','3_w_nps_fr','4_w_nps_fr','5_w_nps_fr','6_w_nps_fr','7_w_nps_fr',\n",
    "             '8_w_nps_fr','9_w_nps_fr','10_w_nps_fr','11_w_nps_fr','12_w_nps_fr','13_w_nps_fr', '14_w_nps_fr',\n",
    "             '15_w_nps_fr','16_w_nps_fr'\n",
    "            ]\n",
    "numerical.append('label')"
   ]
  },
  {
   "cell_type": "code",
   "execution_count": 10,
   "metadata": {
    "collapsed": false
   },
   "outputs": [],
   "source": [
    "df = resultdf[numerical]"
   ]
  },
  {
   "cell_type": "code",
   "execution_count": 11,
   "metadata": {
    "collapsed": true
   },
   "outputs": [],
   "source": [
    "strl = ['yr_born', 'yr_died','yrpub', 'numlines','numstanzas' ,'avgline_stanza','enj_score','ttr',\n",
    "             'abstraction_score', 'lesk_abs_score', 'pronoun_score', 'title_lesk_abs', 'conjunction_ratio',\n",
    "             'nps_ratio','vps_ratio','aps_ratio','avg_nps_cscore','avg_vps_cscore','avg_aps_cscore',\n",
    "             '1_w_nps_fr','2_w_nps_fr','3_w_nps_fr','4_w_nps_fr','5_w_nps_fr','6_w_nps_fr','7_w_nps_fr',\n",
    "             '8_w_nps_fr','9_w_nps_fr','10_w_nps_fr','11_w_nps_fr','12_w_nps_fr','13_w_nps_fr', '14_w_nps_fr',\n",
    "             '15_w_nps_fr','16_w_nps_fr','strlabel','label'\n",
    "            ]\n",
    "\n",
    "strdf = strlabeledf[strl]"
   ]
  },
  {
   "cell_type": "code",
   "execution_count": 12,
   "metadata": {
    "collapsed": false
   },
   "outputs": [
    {
     "data": {
      "text/html": [
       "<div>\n",
       "<table border=\"1\" class=\"dataframe\">\n",
       "  <thead>\n",
       "    <tr style=\"text-align: right;\">\n",
       "      <th></th>\n",
       "      <th>yr_born</th>\n",
       "      <th>yr_died</th>\n",
       "      <th>yrpub</th>\n",
       "      <th>numlines</th>\n",
       "      <th>numstanzas</th>\n",
       "      <th>avgline_stanza</th>\n",
       "      <th>enj_score</th>\n",
       "      <th>ttr</th>\n",
       "      <th>abstraction_score</th>\n",
       "      <th>lesk_abs_score</th>\n",
       "      <th>...</th>\n",
       "      <th>9_w_nps_fr</th>\n",
       "      <th>10_w_nps_fr</th>\n",
       "      <th>11_w_nps_fr</th>\n",
       "      <th>12_w_nps_fr</th>\n",
       "      <th>13_w_nps_fr</th>\n",
       "      <th>14_w_nps_fr</th>\n",
       "      <th>15_w_nps_fr</th>\n",
       "      <th>16_w_nps_fr</th>\n",
       "      <th>strlabel</th>\n",
       "      <th>label</th>\n",
       "    </tr>\n",
       "  </thead>\n",
       "  <tbody>\n",
       "    <tr>\n",
       "      <th>21</th>\n",
       "      <td>1903</td>\n",
       "      <td>1970</td>\n",
       "      <td>2002</td>\n",
       "      <td>9</td>\n",
       "      <td>3</td>\n",
       "      <td>3.000000</td>\n",
       "      <td>9.000000</td>\n",
       "      <td>1.000000</td>\n",
       "      <td>1.190476</td>\n",
       "      <td>1.000000</td>\n",
       "      <td>...</td>\n",
       "      <td>0</td>\n",
       "      <td>0</td>\n",
       "      <td>0</td>\n",
       "      <td>0</td>\n",
       "      <td>0</td>\n",
       "      <td>0</td>\n",
       "      <td>0</td>\n",
       "      <td>0</td>\n",
       "      <td>Contemp</td>\n",
       "      <td>1</td>\n",
       "    </tr>\n",
       "    <tr>\n",
       "      <th>40</th>\n",
       "      <td>1908</td>\n",
       "      <td>1984</td>\n",
       "      <td>2002</td>\n",
       "      <td>5</td>\n",
       "      <td>2</td>\n",
       "      <td>2.500000</td>\n",
       "      <td>4.333333</td>\n",
       "      <td>0.944444</td>\n",
       "      <td>1.763889</td>\n",
       "      <td>1.416667</td>\n",
       "      <td>...</td>\n",
       "      <td>0</td>\n",
       "      <td>0</td>\n",
       "      <td>0</td>\n",
       "      <td>0</td>\n",
       "      <td>0</td>\n",
       "      <td>0</td>\n",
       "      <td>0</td>\n",
       "      <td>0</td>\n",
       "      <td>Contemp</td>\n",
       "      <td>1</td>\n",
       "    </tr>\n",
       "    <tr>\n",
       "      <th>46</th>\n",
       "      <td>0</td>\n",
       "      <td>0</td>\n",
       "      <td>2010</td>\n",
       "      <td>5</td>\n",
       "      <td>1</td>\n",
       "      <td>5.000000</td>\n",
       "      <td>5.000000</td>\n",
       "      <td>0.941176</td>\n",
       "      <td>1.326190</td>\n",
       "      <td>1.214286</td>\n",
       "      <td>...</td>\n",
       "      <td>0</td>\n",
       "      <td>0</td>\n",
       "      <td>0</td>\n",
       "      <td>0</td>\n",
       "      <td>0</td>\n",
       "      <td>0</td>\n",
       "      <td>0</td>\n",
       "      <td>0</td>\n",
       "      <td>Exp</td>\n",
       "      <td>0</td>\n",
       "    </tr>\n",
       "    <tr>\n",
       "      <th>47</th>\n",
       "      <td>0</td>\n",
       "      <td>0</td>\n",
       "      <td>2010</td>\n",
       "      <td>6</td>\n",
       "      <td>2</td>\n",
       "      <td>3.000000</td>\n",
       "      <td>7.000000</td>\n",
       "      <td>0.714286</td>\n",
       "      <td>1.314123</td>\n",
       "      <td>1.541667</td>\n",
       "      <td>...</td>\n",
       "      <td>0</td>\n",
       "      <td>0</td>\n",
       "      <td>0</td>\n",
       "      <td>0</td>\n",
       "      <td>0</td>\n",
       "      <td>0</td>\n",
       "      <td>0</td>\n",
       "      <td>0</td>\n",
       "      <td>Exp</td>\n",
       "      <td>0</td>\n",
       "    </tr>\n",
       "    <tr>\n",
       "      <th>48</th>\n",
       "      <td>0</td>\n",
       "      <td>0</td>\n",
       "      <td>2010</td>\n",
       "      <td>5</td>\n",
       "      <td>1</td>\n",
       "      <td>5.000000</td>\n",
       "      <td>5.000000</td>\n",
       "      <td>0.933333</td>\n",
       "      <td>1.227778</td>\n",
       "      <td>1.300000</td>\n",
       "      <td>...</td>\n",
       "      <td>0</td>\n",
       "      <td>0</td>\n",
       "      <td>0</td>\n",
       "      <td>0</td>\n",
       "      <td>0</td>\n",
       "      <td>0</td>\n",
       "      <td>0</td>\n",
       "      <td>0</td>\n",
       "      <td>Exp</td>\n",
       "      <td>0</td>\n",
       "    </tr>\n",
       "    <tr>\n",
       "      <th>50</th>\n",
       "      <td>0</td>\n",
       "      <td>0</td>\n",
       "      <td>2010</td>\n",
       "      <td>5</td>\n",
       "      <td>1</td>\n",
       "      <td>5.000000</td>\n",
       "      <td>5.000000</td>\n",
       "      <td>0.863636</td>\n",
       "      <td>1.354167</td>\n",
       "      <td>1.333333</td>\n",
       "      <td>...</td>\n",
       "      <td>0</td>\n",
       "      <td>0</td>\n",
       "      <td>0</td>\n",
       "      <td>0</td>\n",
       "      <td>0</td>\n",
       "      <td>0</td>\n",
       "      <td>0</td>\n",
       "      <td>0</td>\n",
       "      <td>Exp</td>\n",
       "      <td>0</td>\n",
       "    </tr>\n",
       "    <tr>\n",
       "      <th>67</th>\n",
       "      <td>1938</td>\n",
       "      <td>0</td>\n",
       "      <td>1974</td>\n",
       "      <td>4</td>\n",
       "      <td>2</td>\n",
       "      <td>2.000000</td>\n",
       "      <td>2.000000</td>\n",
       "      <td>0.866667</td>\n",
       "      <td>1.116071</td>\n",
       "      <td>0.687500</td>\n",
       "      <td>...</td>\n",
       "      <td>0</td>\n",
       "      <td>0</td>\n",
       "      <td>0</td>\n",
       "      <td>0</td>\n",
       "      <td>0</td>\n",
       "      <td>0</td>\n",
       "      <td>0</td>\n",
       "      <td>0</td>\n",
       "      <td>Exp</td>\n",
       "      <td>0</td>\n",
       "    </tr>\n",
       "    <tr>\n",
       "      <th>120</th>\n",
       "      <td>1942</td>\n",
       "      <td>0</td>\n",
       "      <td>1990</td>\n",
       "      <td>14</td>\n",
       "      <td>1</td>\n",
       "      <td>14.000000</td>\n",
       "      <td>21.500000</td>\n",
       "      <td>0.071429</td>\n",
       "      <td>1.250000</td>\n",
       "      <td>1.250000</td>\n",
       "      <td>...</td>\n",
       "      <td>0</td>\n",
       "      <td>0</td>\n",
       "      <td>0</td>\n",
       "      <td>0</td>\n",
       "      <td>0</td>\n",
       "      <td>0</td>\n",
       "      <td>0</td>\n",
       "      <td>0</td>\n",
       "      <td>Exp</td>\n",
       "      <td>0</td>\n",
       "    </tr>\n",
       "    <tr>\n",
       "      <th>144</th>\n",
       "      <td>0</td>\n",
       "      <td>0</td>\n",
       "      <td>2004</td>\n",
       "      <td>3</td>\n",
       "      <td>1</td>\n",
       "      <td>3.000000</td>\n",
       "      <td>3.000000</td>\n",
       "      <td>0.923077</td>\n",
       "      <td>1.500000</td>\n",
       "      <td>1.000000</td>\n",
       "      <td>...</td>\n",
       "      <td>0</td>\n",
       "      <td>0</td>\n",
       "      <td>0</td>\n",
       "      <td>0</td>\n",
       "      <td>0</td>\n",
       "      <td>0</td>\n",
       "      <td>0</td>\n",
       "      <td>0</td>\n",
       "      <td>Contemp</td>\n",
       "      <td>1</td>\n",
       "    </tr>\n",
       "    <tr>\n",
       "      <th>146</th>\n",
       "      <td>0</td>\n",
       "      <td>0</td>\n",
       "      <td>2004</td>\n",
       "      <td>3</td>\n",
       "      <td>1</td>\n",
       "      <td>3.000000</td>\n",
       "      <td>3.000000</td>\n",
       "      <td>1.000000</td>\n",
       "      <td>0.500000</td>\n",
       "      <td>0.500000</td>\n",
       "      <td>...</td>\n",
       "      <td>0</td>\n",
       "      <td>0</td>\n",
       "      <td>0</td>\n",
       "      <td>0</td>\n",
       "      <td>0</td>\n",
       "      <td>0</td>\n",
       "      <td>0</td>\n",
       "      <td>0</td>\n",
       "      <td>Contemp</td>\n",
       "      <td>1</td>\n",
       "    </tr>\n",
       "    <tr>\n",
       "      <th>290</th>\n",
       "      <td>1903</td>\n",
       "      <td>1946</td>\n",
       "      <td>0</td>\n",
       "      <td>14</td>\n",
       "      <td>1</td>\n",
       "      <td>14.000000</td>\n",
       "      <td>2.750000</td>\n",
       "      <td>0.733333</td>\n",
       "      <td>1.556787</td>\n",
       "      <td>1.315476</td>\n",
       "      <td>...</td>\n",
       "      <td>0</td>\n",
       "      <td>0</td>\n",
       "      <td>0</td>\n",
       "      <td>0</td>\n",
       "      <td>0</td>\n",
       "      <td>0</td>\n",
       "      <td>0</td>\n",
       "      <td>0</td>\n",
       "      <td>Modern</td>\n",
       "      <td>0</td>\n",
       "    </tr>\n",
       "    <tr>\n",
       "      <th>345</th>\n",
       "      <td>1937</td>\n",
       "      <td>0</td>\n",
       "      <td>1994</td>\n",
       "      <td>2</td>\n",
       "      <td>1</td>\n",
       "      <td>2.000000</td>\n",
       "      <td>52.000000</td>\n",
       "      <td>0.900000</td>\n",
       "      <td>1.468750</td>\n",
       "      <td>1.250000</td>\n",
       "      <td>...</td>\n",
       "      <td>0</td>\n",
       "      <td>0</td>\n",
       "      <td>0</td>\n",
       "      <td>0</td>\n",
       "      <td>0</td>\n",
       "      <td>0</td>\n",
       "      <td>0</td>\n",
       "      <td>0</td>\n",
       "      <td>Exp</td>\n",
       "      <td>0</td>\n",
       "    </tr>\n",
       "    <tr>\n",
       "      <th>435</th>\n",
       "      <td>1883</td>\n",
       "      <td>1963</td>\n",
       "      <td>1962</td>\n",
       "      <td>8</td>\n",
       "      <td>4</td>\n",
       "      <td>2.000000</td>\n",
       "      <td>8.000000</td>\n",
       "      <td>1.000000</td>\n",
       "      <td>0.991733</td>\n",
       "      <td>0.833333</td>\n",
       "      <td>...</td>\n",
       "      <td>0</td>\n",
       "      <td>0</td>\n",
       "      <td>0</td>\n",
       "      <td>0</td>\n",
       "      <td>0</td>\n",
       "      <td>0</td>\n",
       "      <td>0</td>\n",
       "      <td>0</td>\n",
       "      <td>Exp</td>\n",
       "      <td>0</td>\n",
       "    </tr>\n",
       "    <tr>\n",
       "      <th>604</th>\n",
       "      <td>1922</td>\n",
       "      <td>1969</td>\n",
       "      <td>1995</td>\n",
       "      <td>17</td>\n",
       "      <td>6</td>\n",
       "      <td>2.833333</td>\n",
       "      <td>17.000000</td>\n",
       "      <td>0.857143</td>\n",
       "      <td>1.317224</td>\n",
       "      <td>1.211538</td>\n",
       "      <td>...</td>\n",
       "      <td>0</td>\n",
       "      <td>0</td>\n",
       "      <td>0</td>\n",
       "      <td>0</td>\n",
       "      <td>0</td>\n",
       "      <td>0</td>\n",
       "      <td>0</td>\n",
       "      <td>0</td>\n",
       "      <td>Modern</td>\n",
       "      <td>0</td>\n",
       "    </tr>\n",
       "    <tr>\n",
       "      <th>605</th>\n",
       "      <td>1922</td>\n",
       "      <td>1969</td>\n",
       "      <td>2003</td>\n",
       "      <td>3</td>\n",
       "      <td>1</td>\n",
       "      <td>3.000000</td>\n",
       "      <td>3.000000</td>\n",
       "      <td>0.888889</td>\n",
       "      <td>0.750000</td>\n",
       "      <td>0.666667</td>\n",
       "      <td>...</td>\n",
       "      <td>0</td>\n",
       "      <td>0</td>\n",
       "      <td>0</td>\n",
       "      <td>0</td>\n",
       "      <td>0</td>\n",
       "      <td>0</td>\n",
       "      <td>0</td>\n",
       "      <td>0</td>\n",
       "      <td>Modern</td>\n",
       "      <td>0</td>\n",
       "    </tr>\n",
       "    <tr>\n",
       "      <th>635</th>\n",
       "      <td>1894</td>\n",
       "      <td>1962</td>\n",
       "      <td>2010</td>\n",
       "      <td>20</td>\n",
       "      <td>4</td>\n",
       "      <td>5.000000</td>\n",
       "      <td>9.500000</td>\n",
       "      <td>0.747573</td>\n",
       "      <td>1.414014</td>\n",
       "      <td>1.370370</td>\n",
       "      <td>...</td>\n",
       "      <td>0</td>\n",
       "      <td>0</td>\n",
       "      <td>0</td>\n",
       "      <td>0</td>\n",
       "      <td>0</td>\n",
       "      <td>0</td>\n",
       "      <td>0</td>\n",
       "      <td>0</td>\n",
       "      <td>Exp</td>\n",
       "      <td>0</td>\n",
       "    </tr>\n",
       "    <tr>\n",
       "      <th>863</th>\n",
       "      <td>1964</td>\n",
       "      <td>0</td>\n",
       "      <td>0</td>\n",
       "      <td>29</td>\n",
       "      <td>1</td>\n",
       "      <td>29.000000</td>\n",
       "      <td>378.000000</td>\n",
       "      <td>0.957447</td>\n",
       "      <td>1.145062</td>\n",
       "      <td>0.821429</td>\n",
       "      <td>...</td>\n",
       "      <td>0</td>\n",
       "      <td>0</td>\n",
       "      <td>0</td>\n",
       "      <td>0</td>\n",
       "      <td>0</td>\n",
       "      <td>0</td>\n",
       "      <td>0</td>\n",
       "      <td>0</td>\n",
       "      <td>Contemp</td>\n",
       "      <td>1</td>\n",
       "    </tr>\n",
       "    <tr>\n",
       "      <th>920</th>\n",
       "      <td>1928</td>\n",
       "      <td>0</td>\n",
       "      <td>2006</td>\n",
       "      <td>9</td>\n",
       "      <td>3</td>\n",
       "      <td>3.000000</td>\n",
       "      <td>9.000000</td>\n",
       "      <td>0.803922</td>\n",
       "      <td>1.026515</td>\n",
       "      <td>0.987179</td>\n",
       "      <td>...</td>\n",
       "      <td>0</td>\n",
       "      <td>0</td>\n",
       "      <td>0</td>\n",
       "      <td>0</td>\n",
       "      <td>0</td>\n",
       "      <td>0</td>\n",
       "      <td>0</td>\n",
       "      <td>0</td>\n",
       "      <td>Contemp</td>\n",
       "      <td>1</td>\n",
       "    </tr>\n",
       "    <tr>\n",
       "      <th>1356</th>\n",
       "      <td>1885</td>\n",
       "      <td>1972</td>\n",
       "      <td>1916</td>\n",
       "      <td>3</td>\n",
       "      <td>1</td>\n",
       "      <td>3.000000</td>\n",
       "      <td>117.000000</td>\n",
       "      <td>0.916667</td>\n",
       "      <td>1.815705</td>\n",
       "      <td>1.437500</td>\n",
       "      <td>...</td>\n",
       "      <td>0</td>\n",
       "      <td>0</td>\n",
       "      <td>0</td>\n",
       "      <td>0</td>\n",
       "      <td>0</td>\n",
       "      <td>0</td>\n",
       "      <td>0</td>\n",
       "      <td>0</td>\n",
       "      <td>Modern</td>\n",
       "      <td>0</td>\n",
       "    </tr>\n",
       "    <tr>\n",
       "      <th>1363</th>\n",
       "      <td>1885</td>\n",
       "      <td>1972</td>\n",
       "      <td>1926</td>\n",
       "      <td>2</td>\n",
       "      <td>1</td>\n",
       "      <td>2.000000</td>\n",
       "      <td>2.000000</td>\n",
       "      <td>1.000000</td>\n",
       "      <td>1.365385</td>\n",
       "      <td>0.916667</td>\n",
       "      <td>...</td>\n",
       "      <td>0</td>\n",
       "      <td>0</td>\n",
       "      <td>0</td>\n",
       "      <td>0</td>\n",
       "      <td>0</td>\n",
       "      <td>0</td>\n",
       "      <td>0</td>\n",
       "      <td>0</td>\n",
       "      <td>Modern</td>\n",
       "      <td>0</td>\n",
       "    </tr>\n",
       "  </tbody>\n",
       "</table>\n",
       "<p>20 rows × 37 columns</p>\n",
       "</div>"
      ],
      "text/plain": [
       "      yr_born  yr_died  yrpub  numlines  numstanzas  avgline_stanza  \\\n",
       "21       1903     1970   2002         9           3        3.000000   \n",
       "40       1908     1984   2002         5           2        2.500000   \n",
       "46          0        0   2010         5           1        5.000000   \n",
       "47          0        0   2010         6           2        3.000000   \n",
       "48          0        0   2010         5           1        5.000000   \n",
       "50          0        0   2010         5           1        5.000000   \n",
       "67       1938        0   1974         4           2        2.000000   \n",
       "120      1942        0   1990        14           1       14.000000   \n",
       "144         0        0   2004         3           1        3.000000   \n",
       "146         0        0   2004         3           1        3.000000   \n",
       "290      1903     1946      0        14           1       14.000000   \n",
       "345      1937        0   1994         2           1        2.000000   \n",
       "435      1883     1963   1962         8           4        2.000000   \n",
       "604      1922     1969   1995        17           6        2.833333   \n",
       "605      1922     1969   2003         3           1        3.000000   \n",
       "635      1894     1962   2010        20           4        5.000000   \n",
       "863      1964        0      0        29           1       29.000000   \n",
       "920      1928        0   2006         9           3        3.000000   \n",
       "1356     1885     1972   1916         3           1        3.000000   \n",
       "1363     1885     1972   1926         2           1        2.000000   \n",
       "\n",
       "       enj_score       ttr  abstraction_score  lesk_abs_score  ...    \\\n",
       "21      9.000000  1.000000           1.190476        1.000000  ...     \n",
       "40      4.333333  0.944444           1.763889        1.416667  ...     \n",
       "46      5.000000  0.941176           1.326190        1.214286  ...     \n",
       "47      7.000000  0.714286           1.314123        1.541667  ...     \n",
       "48      5.000000  0.933333           1.227778        1.300000  ...     \n",
       "50      5.000000  0.863636           1.354167        1.333333  ...     \n",
       "67      2.000000  0.866667           1.116071        0.687500  ...     \n",
       "120    21.500000  0.071429           1.250000        1.250000  ...     \n",
       "144     3.000000  0.923077           1.500000        1.000000  ...     \n",
       "146     3.000000  1.000000           0.500000        0.500000  ...     \n",
       "290     2.750000  0.733333           1.556787        1.315476  ...     \n",
       "345    52.000000  0.900000           1.468750        1.250000  ...     \n",
       "435     8.000000  1.000000           0.991733        0.833333  ...     \n",
       "604    17.000000  0.857143           1.317224        1.211538  ...     \n",
       "605     3.000000  0.888889           0.750000        0.666667  ...     \n",
       "635     9.500000  0.747573           1.414014        1.370370  ...     \n",
       "863   378.000000  0.957447           1.145062        0.821429  ...     \n",
       "920     9.000000  0.803922           1.026515        0.987179  ...     \n",
       "1356  117.000000  0.916667           1.815705        1.437500  ...     \n",
       "1363    2.000000  1.000000           1.365385        0.916667  ...     \n",
       "\n",
       "      9_w_nps_fr  10_w_nps_fr  11_w_nps_fr  12_w_nps_fr  13_w_nps_fr  \\\n",
       "21             0            0            0            0            0   \n",
       "40             0            0            0            0            0   \n",
       "46             0            0            0            0            0   \n",
       "47             0            0            0            0            0   \n",
       "48             0            0            0            0            0   \n",
       "50             0            0            0            0            0   \n",
       "67             0            0            0            0            0   \n",
       "120            0            0            0            0            0   \n",
       "144            0            0            0            0            0   \n",
       "146            0            0            0            0            0   \n",
       "290            0            0            0            0            0   \n",
       "345            0            0            0            0            0   \n",
       "435            0            0            0            0            0   \n",
       "604            0            0            0            0            0   \n",
       "605            0            0            0            0            0   \n",
       "635            0            0            0            0            0   \n",
       "863            0            0            0            0            0   \n",
       "920            0            0            0            0            0   \n",
       "1356           0            0            0            0            0   \n",
       "1363           0            0            0            0            0   \n",
       "\n",
       "      14_w_nps_fr  15_w_nps_fr  16_w_nps_fr  strlabel  label  \n",
       "21              0            0            0   Contemp      1  \n",
       "40              0            0            0   Contemp      1  \n",
       "46              0            0            0       Exp      0  \n",
       "47              0            0            0       Exp      0  \n",
       "48              0            0            0       Exp      0  \n",
       "50              0            0            0       Exp      0  \n",
       "67              0            0            0       Exp      0  \n",
       "120             0            0            0       Exp      0  \n",
       "144             0            0            0   Contemp      1  \n",
       "146             0            0            0   Contemp      1  \n",
       "290             0            0            0    Modern      0  \n",
       "345             0            0            0       Exp      0  \n",
       "435             0            0            0       Exp      0  \n",
       "604             0            0            0    Modern      0  \n",
       "605             0            0            0    Modern      0  \n",
       "635             0            0            0       Exp      0  \n",
       "863             0            0            0   Contemp      1  \n",
       "920             0            0            0   Contemp      1  \n",
       "1356            0            0            0    Modern      0  \n",
       "1363            0            0            0    Modern      0  \n",
       "\n",
       "[20 rows x 37 columns]"
      ]
     },
     "execution_count": 12,
     "metadata": {},
     "output_type": "execute_result"
    }
   ],
   "source": [
    "inds = pd.isnull(df).any(1).nonzero()[0]\n",
    "strinds = pd.isnull(strdf).any(1).nonzero()[0]\n",
    "df.ix[inds]\n",
    "strdf.ix[strinds]"
   ]
  },
  {
   "cell_type": "code",
   "execution_count": 13,
   "metadata": {
    "collapsed": false
   },
   "outputs": [],
   "source": [
    "df = df.fillna(df.mean())\n",
    "strdf = strdf.fillna(strdf.mean())\n",
    "# df"
   ]
  },
  {
   "cell_type": "code",
   "execution_count": 14,
   "metadata": {
    "collapsed": false
   },
   "outputs": [
    {
     "data": {
      "text/plain": [
       "label\n",
       "0    1993\n",
       "1    2009\n",
       "Name: yrpub, dtype: int64"
      ]
     },
     "execution_count": 14,
     "metadata": {},
     "output_type": "execute_result"
    }
   ],
   "source": [
    "df.query('yrpub == 0')\n",
    "df.groupby(['label'])['yrpub'].median()"
   ]
  },
  {
   "cell_type": "code",
   "execution_count": 15,
   "metadata": {
    "collapsed": false
   },
   "outputs": [],
   "source": [
    "df.query('yrpub == 0')\n",
    "# df.loc[df['yrpub'==0],]\n",
    "df['yrpub'][290] = 1993\n",
    "df['yrpub'][863] = 2009"
   ]
  },
  {
   "cell_type": "code",
   "execution_count": 16,
   "metadata": {
    "collapsed": false
   },
   "outputs": [],
   "source": [
    "df = df.query('yrpub >= 1900')"
   ]
  },
  {
   "cell_type": "code",
   "execution_count": 17,
   "metadata": {
    "collapsed": true
   },
   "outputs": [],
   "source": [
    "df.to_pickle('/Users/huiru/GADataScience/FinalProject/Data/clean.pkl')"
   ]
  },
  {
   "cell_type": "code",
   "execution_count": 18,
   "metadata": {
    "collapsed": false
   },
   "outputs": [
    {
     "data": {
      "text/plain": [
       "strlabel\n",
       "Contemp    2009\n",
       "Exp        1998\n",
       "Modern     1961\n",
       "Trad       2001\n",
       "Name: yrpub, dtype: int64"
      ]
     },
     "execution_count": 18,
     "metadata": {},
     "output_type": "execute_result"
    }
   ],
   "source": [
    "strdf.query('yrpub == 0')\n",
    "strdf.groupby(['strlabel'])['yrpub'].median()\n",
    "#modern = 1961\n",
    "#contemp = 2009"
   ]
  },
  {
   "cell_type": "code",
   "execution_count": 19,
   "metadata": {
    "collapsed": false
   },
   "outputs": [],
   "source": [
    "strdf.query('yrpub == 0')\n",
    "strdf['yrpub'][290] = 1961\n",
    "strdf['yrpub'][863] = 2009"
   ]
  },
  {
   "cell_type": "code",
   "execution_count": 20,
   "metadata": {
    "collapsed": true
   },
   "outputs": [],
   "source": [
    "strdf = strdf.query('yrpub >= 1900')"
   ]
  },
  {
   "cell_type": "code",
   "execution_count": 24,
   "metadata": {
    "collapsed": false
   },
   "outputs": [
    {
     "data": {
      "text/html": [
       "<div>\n",
       "<table border=\"1\" class=\"dataframe\">\n",
       "  <thead>\n",
       "    <tr style=\"text-align: right;\">\n",
       "      <th></th>\n",
       "      <th>yr_born</th>\n",
       "      <th>yr_died</th>\n",
       "      <th>yrpub</th>\n",
       "      <th>numlines</th>\n",
       "      <th>numstanzas</th>\n",
       "      <th>avgline_stanza</th>\n",
       "      <th>enj_score</th>\n",
       "      <th>ttr</th>\n",
       "      <th>abstraction_score</th>\n",
       "      <th>lesk_abs_score</th>\n",
       "      <th>...</th>\n",
       "      <th>9_w_nps_fr</th>\n",
       "      <th>10_w_nps_fr</th>\n",
       "      <th>11_w_nps_fr</th>\n",
       "      <th>12_w_nps_fr</th>\n",
       "      <th>13_w_nps_fr</th>\n",
       "      <th>14_w_nps_fr</th>\n",
       "      <th>15_w_nps_fr</th>\n",
       "      <th>16_w_nps_fr</th>\n",
       "      <th>strlabel</th>\n",
       "      <th>label</th>\n",
       "    </tr>\n",
       "  </thead>\n",
       "  <tbody>\n",
       "  </tbody>\n",
       "</table>\n",
       "<p>0 rows × 37 columns</p>\n",
       "</div>"
      ],
      "text/plain": [
       "Empty DataFrame\n",
       "Columns: [yr_born, yr_died, yrpub, numlines, numstanzas, avgline_stanza, enj_score, ttr, abstraction_score, lesk_abs_score, pronoun_score, title_lesk_abs, conjunction_ratio, nps_ratio, vps_ratio, aps_ratio, avg_nps_cscore, avg_vps_cscore, avg_aps_cscore, 1_w_nps_fr, 2_w_nps_fr, 3_w_nps_fr, 4_w_nps_fr, 5_w_nps_fr, 6_w_nps_fr, 7_w_nps_fr, 8_w_nps_fr, 9_w_nps_fr, 10_w_nps_fr, 11_w_nps_fr, 12_w_nps_fr, 13_w_nps_fr, 14_w_nps_fr, 15_w_nps_fr, 16_w_nps_fr, strlabel, label]\n",
       "Index: []\n",
       "\n",
       "[0 rows x 37 columns]"
      ]
     },
     "execution_count": 24,
     "metadata": {},
     "output_type": "execute_result"
    }
   ],
   "source": [
    "strdf.query('yrpub <= 1900')"
   ]
  },
  {
   "cell_type": "code",
   "execution_count": 25,
   "metadata": {
    "collapsed": true
   },
   "outputs": [],
   "source": [
    "strdf.to_pickle('/Users/huiru/GADataScience/FinalProject/Data/strlabeleddf.pkl')"
   ]
  }
 ],
 "metadata": {
  "kernelspec": {
   "display_name": "Python 2",
   "language": "python",
   "name": "python2"
  },
  "language_info": {
   "codemirror_mode": {
    "name": "ipython",
    "version": 2
   },
   "file_extension": ".py",
   "mimetype": "text/x-python",
   "name": "python",
   "nbconvert_exporter": "python",
   "pygments_lexer": "ipython2",
   "version": "2.7.10"
  }
 },
 "nbformat": 4,
 "nbformat_minor": 0
}
