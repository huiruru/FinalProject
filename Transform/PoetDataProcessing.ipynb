{
 "cells": [
  {
   "cell_type": "code",
   "execution_count": 1,
   "metadata": {
    "collapsed": true
   },
   "outputs": [],
   "source": [
    "import pandas as pd\n",
    "import numpy as np\n",
    "\n",
    "from pymongo import MongoClient\n",
    "\n",
    "import re\n",
    "#fixed issue with ascii encoding errors\n",
    "import sys\n",
    "\n",
    "# reload(sys)\n",
    "# sys.setdefaultencoding(\"utf-8\")\n",
    "import ExtractHelper as eh"
   ]
  },
  {
   "cell_type": "code",
   "execution_count": 2,
   "metadata": {
    "collapsed": true
   },
   "outputs": [],
   "source": [
    "#code to put data from mongodb named Poetry into two separate Pandas DataFrame\n",
    "client = MongoClient()\n",
    "client = MongoClient('localhost', 27017)\n",
    "db = client.POETRY\n",
    "\n",
    "poets = db.POET\n",
    "\n",
    "rawpoet = pd.DataFrame(list(poets.find()))"
   ]
  },
  {
   "cell_type": "code",
   "execution_count": 3,
   "metadata": {
    "collapsed": true
   },
   "outputs": [],
   "source": [
    "rawpoet.to_pickle('/Users/huiru/GADataScience/FinalProject/Data/rawpoet.pkl')"
   ]
  },
  {
   "cell_type": "markdown",
   "metadata": {},
   "source": [
    "### clean rawpoet table. At the moment, _id, poet_positions, & posyears (position years) column values appear unusable\n",
    "### drop these columns for now"
   ]
  },
  {
   "cell_type": "code",
   "execution_count": 4,
   "metadata": {
    "collapsed": true
   },
   "outputs": [],
   "source": [
    "ctodrop = ['_id', 'poet_positions', 'poet_posyears']\n",
    "rawpoet.drop(ctodrop, 1,inplace = True)"
   ]
  },
  {
   "cell_type": "code",
   "execution_count": 5,
   "metadata": {
    "collapsed": false
   },
   "outputs": [],
   "source": [
    "#These are the columns that contain list of strings or strings that \n",
    "#need to be turned into one string for cleaning/extraction\n",
    "\n",
    "ctostr = ['movement_name','poet_bio','poet_name', 'poet_basicbio', 'poet_tags']\n",
    "\n",
    "for i in ctostr:\n",
    "    rawpoet[i] = rawpoet[i].map(lambda x: u''.join(x))"
   ]
  },
  {
   "cell_type": "code",
   "execution_count": 10,
   "metadata": {
    "collapsed": false
   },
   "outputs": [],
   "source": [
    "# rawpoet.head()[:1]"
   ]
  },
  {
   "cell_type": "markdown",
   "metadata": {},
   "source": [
    "###the poet's movement name tag is very important, we need to clean (remove dup tags), separate out into columns, then merge back into a clean poet table"
   ]
  },
  {
   "cell_type": "code",
   "execution_count": 11,
   "metadata": {
    "collapsed": false
   },
   "outputs": [],
   "source": [
    "rawpoet['tags'] = rawpoet[['movement_name', 'poet_tags']].apply(lambda x: list(set(str(x))),axis=1)\n",
    "rawpoet['tags'] = rawpoet[['movement_name', 'poet_tags']].apply(lambda x: list(set(x)),axis=1)\n",
    "rawpoet['tags'] = rawpoet['tags'].apply(lambda x: x.replace('-','').replace(' ','').split(\"\\n\"))\n",
    "rawpoet['tags']=rawpoet['tags'].map(lambda x: ''.join(x).split(\",\"))"
   ]
  },
  {
   "cell_type": "code",
   "execution_count": 12,
   "metadata": {
    "collapsed": false
   },
   "outputs": [],
   "source": [
    "# rawpoet.tags[:10]"
   ]
  },
  {
   "cell_type": "code",
   "execution_count": 13,
   "metadata": {
    "collapsed": false
   },
   "outputs": [],
   "source": [
    "#Split out the list of tags from the tags column and put into a data frame to then concat \n",
    "#back into a final cleaned poet dataframe\n",
    "ptags = rawpoet['tags'].apply(pd.Series)\n",
    "ptags.columns = ['primary_tag', 'tag2', 'tag3','tag4']\n",
    "# ptags.head()"
   ]
  },
  {
   "cell_type": "markdown",
   "metadata": {},
   "source": [
    "##now we need to look at poet births/deaths"
   ]
  },
  {
   "cell_type": "code",
   "execution_count": 14,
   "metadata": {
    "collapsed": false
   },
   "outputs": [],
   "source": [
    "?eh.extract_birth()"
   ]
  },
  {
   "cell_type": "code",
   "execution_count": 15,
   "metadata": {
    "collapsed": false
   },
   "outputs": [],
   "source": [
    "#use the helper function extract_birth to fill the poet birth yr, yr died (if dead) variables\n",
    "rawpoet['yr_born'] = rawpoet['poet_dob2'].apply(lambda x: eh.extract_birth(x))\n",
    "rawpoet['yr_died'] = rawpoet['poet_dob2'].apply(lambda x: eh.extract_birth(x,False))"
   ]
  },
  {
   "cell_type": "code",
   "execution_count": 16,
   "metadata": {
    "collapsed": false
   },
   "outputs": [],
   "source": [
    "#put the poet_basicbio, which is a string, into another cleaned string column to work with\n",
    "rawpoet['basic_bio']=rawpoet['poet_basicbio'].apply(lambda x: x.replace('-',''))"
   ]
  },
  {
   "cell_type": "markdown",
   "metadata": {},
   "source": [
    "poet_basicbio contains a secondary source of birth and death years. It also contains where the poet was born; city, state and country. We need to extract this information."
   ]
  },
  {
   "cell_type": "code",
   "execution_count": 17,
   "metadata": {
    "collapsed": true
   },
   "outputs": [],
   "source": [
    "#extract anything that is a number\n",
    "rawpoet['birthdeath'] = rawpoet['basic_bio'].map(lambda x: re.findall(r'\\d+', x))\n",
    "\n",
    "#extract non-numeric characters\n",
    "rawpoet['birthplace'] = rawpoet['basic_bio'].map(lambda x: re.findall(r'[^\\d]+', x))\n",
    "rawpoet['birthplace'] = rawpoet['birthplace'].apply(lambda x: u''.join(x))"
   ]
  },
  {
   "cell_type": "code",
   "execution_count": 18,
   "metadata": {
    "collapsed": false
   },
   "outputs": [],
   "source": [
    "?eh.extract_bio()"
   ]
  },
  {
   "cell_type": "code",
   "execution_count": 19,
   "metadata": {
    "collapsed": false
   },
   "outputs": [],
   "source": [
    "rawpoet['city'] = rawpoet['birthplace'].map(lambda x: eh.extract_bio(x))\n",
    "rawpoet['state'] = rawpoet['birthplace'].map(lambda x: eh.extract_bio(x, 'state'))\n",
    "rawpoet['country'] = rawpoet['birthplace'].map(lambda x: eh.extract_bio(x, 'country'))"
   ]
  },
  {
   "cell_type": "code",
   "execution_count": 20,
   "metadata": {
    "collapsed": false
   },
   "outputs": [],
   "source": [
    "#Now the data is more or less ready to put in cleaned dataframe of poet information\n",
    "#rawpoet.columns\n",
    "\n",
    "coltokeep= ['poet_name','poet_url','poet_poems_url','tags','poet_bio','yr_born','yr_died','city','state','country']\n",
    "\n",
    "poetdf = pd.concat([rawpoet[coltokeep],ptags],axis=1)"
   ]
  },
  {
   "cell_type": "code",
   "execution_count": 21,
   "metadata": {
    "collapsed": true
   },
   "outputs": [],
   "source": [
    "#Not sure if I want to keep these variables calculated from the birth and death information about each poet\n",
    "#using them for now\n",
    "#It's 2015 now, so use this to calculate current age if poet hasn't died\n",
    "\n",
    "poetdf['dead'] = np.where(poetdf['yr_died'] > 0,1,0)\n",
    "poetdf['current_age'] = np.where(poetdf['dead'] == 0, (2015- poetdf['yr_born']), 0)\n",
    "poetdf['age_dead'] = np.where(poetdf['dead'] == 1, (poetdf['yr_died']-poetdf['yr_born']), 0)\n",
    "poetdf['current_age'] = np.where(poetdf['current_age'] == 2015, 0,poetdf['current_age'])"
   ]
  },
  {
   "cell_type": "code",
   "execution_count": 22,
   "metadata": {
    "collapsed": false
   },
   "outputs": [
    {
     "data": {
      "text/html": [
       "<div>\n",
       "<table border=\"1\" class=\"dataframe\">\n",
       "  <thead>\n",
       "    <tr style=\"text-align: right;\">\n",
       "      <th></th>\n",
       "      <th>poet_name</th>\n",
       "      <th>poet_url</th>\n",
       "      <th>poet_poems_url</th>\n",
       "      <th>tags</th>\n",
       "      <th>poet_bio</th>\n",
       "      <th>yr_born</th>\n",
       "      <th>yr_died</th>\n",
       "      <th>city</th>\n",
       "      <th>state</th>\n",
       "      <th>country</th>\n",
       "      <th>primary_tag</th>\n",
       "      <th>tag2</th>\n",
       "      <th>tag3</th>\n",
       "      <th>tag4</th>\n",
       "      <th>dead</th>\n",
       "      <th>current_age</th>\n",
       "      <th>age_dead</th>\n",
       "    </tr>\n",
       "  </thead>\n",
       "  <tbody>\n",
       "    <tr>\n",
       "      <th>0</th>\n",
       "      <td>Taylor Mali</td>\n",
       "      <td>http://www.poets.org/poetsorg/poet/taylor-mali</td>\n",
       "      <td>http://www.poets.org/poetsorg/poems/406436</td>\n",
       "      <td>[Slam/SpokenWord]</td>\n",
       "      <td>Taylor Mali is a four-time National Poetry Sla...</td>\n",
       "      <td>0</td>\n",
       "      <td>0</td>\n",
       "      <td></td>\n",
       "      <td></td>\n",
       "      <td></td>\n",
       "      <td>Slam/SpokenWord</td>\n",
       "      <td>NaN</td>\n",
       "      <td>NaN</td>\n",
       "      <td>NaN</td>\n",
       "      <td>0</td>\n",
       "      <td>0</td>\n",
       "      <td>0</td>\n",
       "    </tr>\n",
       "  </tbody>\n",
       "</table>\n",
       "</div>"
      ],
      "text/plain": [
       "     poet_name                                        poet_url  \\\n",
       "0  Taylor Mali  http://www.poets.org/poetsorg/poet/taylor-mali   \n",
       "\n",
       "                               poet_poems_url               tags  \\\n",
       "0  http://www.poets.org/poetsorg/poems/406436  [Slam/SpokenWord]   \n",
       "\n",
       "                                            poet_bio  yr_born  yr_died city  \\\n",
       "0  Taylor Mali is a four-time National Poetry Sla...        0        0        \n",
       "\n",
       "  state country      primary_tag tag2 tag3 tag4  dead  current_age  age_dead  \n",
       "0                Slam/SpokenWord  NaN  NaN  NaN     0            0         0  "
      ]
     },
     "execution_count": 22,
     "metadata": {},
     "output_type": "execute_result"
    }
   ],
   "source": [
    "poetdf.head()[:1]\n",
    "\n",
    "#Combine cleaned poet dataframe and poem data frame based on the foreign key identifier, poet_poems_url\n",
    "# rawpoem.head()\n",
    "# poemdf = rawpoem[['poet_poems_url','poem_title', 'poem_yrpub', 'poem_text', 'poem_link']]\n",
    "# resultdf = pd.merge(poetdf, poemdf, how='inner', on=['poet_poems_url'])"
   ]
  },
  {
   "cell_type": "code",
   "execution_count": 23,
   "metadata": {
    "collapsed": false
   },
   "outputs": [],
   "source": [
    "#Save the results to a pickle file. Alternatively, can also save to a collection in the same POETRY database\n",
    "poetdf.to_pickle('/Users/huiru/GADataScience/FinalProject/Data/poetdf.pkl')"
   ]
  }
 ],
 "metadata": {
  "kernelspec": {
   "display_name": "Python 2",
   "language": "python",
   "name": "python2"
  },
  "language_info": {
   "codemirror_mode": {
    "name": "ipython",
    "version": 2
   },
   "file_extension": ".py",
   "mimetype": "text/x-python",
   "name": "python",
   "nbconvert_exporter": "python",
   "pygments_lexer": "ipython2",
   "version": "2.7.10"
  }
 },
 "nbformat": 4,
 "nbformat_minor": 0
}
