{
 "cells": [
  {
   "cell_type": "code",
   "execution_count": 1,
   "metadata": {
    "collapsed": false
   },
   "outputs": [],
   "source": [
    "import pandas as pd\n",
    "import numpy as np\n",
    "\n",
    "#tools to help with JSON\n",
    "import json\n",
    "from pandas.io.json import json_normalize\n",
    "#pprint - pretty print - preserves formatting\n",
    "from pprint import pprint\n",
    "\n",
    "#urllib / requests - used commonly for apis\n",
    "import requests\n",
    "import urllib2\n",
    "\n",
    "from bs4 import BeautifulSoup\n",
    "\n",
    "from __future__ import print_function\n",
    "\n",
    "import re\n",
    "import HTMLParser"
   ]
  },
  {
   "cell_type": "markdown",
   "metadata": {},
   "source": [
    "###URL = http://www.poetryfoundation.org/poetrymagazine/toc/{#}\n",
    "### 1 through 2472"
   ]
  },
  {
   "cell_type": "code",
   "execution_count": 85,
   "metadata": {
    "collapsed": false
   },
   "outputs": [],
   "source": [
    "listentries = []\n",
    "for issue in range(2299,2473):\n",
    "        url = \"http://www.poetryfoundation.org/poetrymagazine/toc/\" + str(issue)\n",
    "        urlnum = issue\n",
    "        try:\n",
    "            page = urllib2.urlopen(url)\n",
    "            soup = BeautifulSoup(page.read())\n",
    "            issue = re.sub(' : Poetry Magazine', '', soup.title.string)\n",
    "            x = soup.find_all('div', class_ = 'item')\n",
    "            #print (issue, len(x))\n",
    "            for i in range(0,len(x)):\n",
    "                poet = x[i].find_all('span', class_='author')\n",
    "                poetname = poet[0].get_text()\n",
    "                y = x[i].find_all('a', href=re.compile('.*/poem/.*'))\n",
    "                for i in y:\n",
    "                    poemtitle = i.get_text().encode('ascii','ignore')\n",
    "                    poemurl = 'http://www.poetryfoundation.org' + i.get('href')\n",
    "                    poetname = poetname.encode('ascii', 'ignore')\n",
    "                    issue = re.sub(' : Poetry Magazine', '', issue).encode('ascii', 'ignore')\n",
    "                    \n",
    "                    \n",
    "                    dict1 = {'IssueUrl': urlnum, 'Issue': issue, 'PoetName': poetname, 'PoemTitle': poemtitle, 'PoemUrl': poemurl }\n",
    "                    listentries.append(dict1)\n",
    "        except Exception: \n",
    "            pass\n",
    "\n",
    "#                 print (issue, poetname, poemtitle, poemurl)  \n",
    "\n",
    "pmagdf = pd.DataFrame(listentries) "
   ]
  },
  {
   "cell_type": "code",
   "execution_count": 86,
   "metadata": {
    "collapsed": false
   },
   "outputs": [],
   "source": [
    "x = pmagdf.IssueUrl.value_counts()"
   ]
  },
  {
   "cell_type": "code",
   "execution_count": 87,
   "metadata": {
    "collapsed": false
   },
   "outputs": [
    {
     "data": {
      "text/plain": [
       "126"
      ]
     },
     "execution_count": 87,
     "metadata": {},
     "output_type": "execute_result"
    }
   ],
   "source": [
    "len(x)"
   ]
  },
  {
   "cell_type": "code",
   "execution_count": 89,
   "metadata": {
    "collapsed": false
   },
   "outputs": [],
   "source": [
    "writer = pd.ExcelWriter('output.xlsx')\n",
    "pmagdf.to_excel(writer,'Sheet1')\n",
    "writer.save()"
   ]
  },
  {
   "cell_type": "code",
   "execution_count": 121,
   "metadata": {
    "collapsed": false
   },
   "outputs": [
    {
     "data": {
      "text/plain": [
       "'/bio/michael-hudson'"
      ]
     },
     "execution_count": 121,
     "metadata": {},
     "output_type": "execute_result"
    }
   ],
   "source": [
    "url = \"http://www.poetryfoundation.org/poetrymagazine/poem/250038\"\n",
    "page = urllib2.urlopen(url)\n",
    "soup = BeautifulSoup(page.read())\n",
    "link = soup.find('a', href= re.compile('.*/bio/.*'))\n",
    "link.get('href')"
   ]
  },
  {
   "cell_type": "code",
   "execution_count": 137,
   "metadata": {
    "collapsed": false
   },
   "outputs": [
    {
     "data": {
      "text/plain": [
       "615"
      ]
     },
     "execution_count": 137,
     "metadata": {},
     "output_type": "execute_result"
    }
   ],
   "source": [
    "len(pmagdf.PoetName.value_counts())"
   ]
  },
  {
   "cell_type": "code",
   "execution_count": 150,
   "metadata": {
    "collapsed": true
   },
   "outputs": [],
   "source": [
    "url = \"http://www.poetryfoundation.org/bio/Derrick-hudson#poet\"\n",
    "page = urllib2.urlopen(url)\n",
    "soup = BeautifulSoup(page.read())"
   ]
  },
  {
   "cell_type": "code",
   "execution_count": 165,
   "metadata": {
    "collapsed": false
   },
   "outputs": [
    {
     "data": {
      "text/plain": [
       "[<span class=\"text\"><a href=\"/browse/poets#poet-region=20\">U.S., Mid-Atlantic</a></span>]"
      ]
     },
     "execution_count": 165,
     "metadata": {},
     "output_type": "execute_result"
    }
   ],
   "source": [
    "soup.find_all('span', class_='text') #poetry foundation tags"
   ]
  },
  {
   "cell_type": "code",
   "execution_count": 2,
   "metadata": {
    "collapsed": true
   },
   "outputs": [],
   "source": [
    "url = \"http://www.bestamericanpoetry.com/archive/\"\n",
    "page = urllib2.urlopen(url)\n",
    "soup = BeautifulSoup(page.read())"
   ]
  },
  {
   "cell_type": "code",
   "execution_count": 8,
   "metadata": {
    "collapsed": false
   },
   "outputs": [
    {
     "name": "stdout",
     "output_type": "stream",
     "text": [
      "/pages/volumes/?id=1988\n",
      "/pages/volumes/?id=1989\n",
      "/pages/volumes/?id=1990\n",
      "/pages/volumes/?id=1991\n",
      "/pages/volumes/?id=1992\n",
      "/pages/volumes/?id=1993\n",
      "/pages/volumes/?id=1994\n",
      "/pages/volumes/?id=1995\n",
      "/pages/volumes/?id=1996\n",
      "/pages/volumes/?id=1997\n",
      "/pages/volumes/?id=1988-1997\n",
      "/pages/volumes/?id=1998\n",
      "/pages/volumes/?id=1999\n",
      "/pages/volumes/?id=2000\n",
      "/pages/volumes/?id=2001\n",
      "/pages/volumes/?id=2002\n",
      "/pages/volumes/?id=2003\n",
      "/pages/volumes/?id=2004\n",
      "/pages/volumes/?id=2005\n",
      "/pages/volumes/?id=2006\n",
      "/pages/volumes/?id=2007\n",
      "/pages/volumes/?id=2008\n",
      "/pages/volumes/?id=2009\n",
      "/pages/volumes/?id=2010\n",
      "/pages/volumes/?id=2011\n",
      "/pages/volumes/?id=2012\n"
     ]
    }
   ],
   "source": [
    "for link in soup.find_all('a', href= re.compile('.*/volumes/.*')):\n",
    "    print(link.get('href'))"
   ]
  }
 ],
 "metadata": {
  "kernelspec": {
   "display_name": "Python 2",
   "language": "python",
   "name": "python2"
  },
  "language_info": {
   "codemirror_mode": {
    "name": "ipython",
    "version": 2
   },
   "file_extension": ".py",
   "mimetype": "text/x-python",
   "name": "python",
   "nbconvert_exporter": "python",
   "pygments_lexer": "ipython2",
   "version": "2.7.8"
  }
 },
 "nbformat": 4,
 "nbformat_minor": 0
}
