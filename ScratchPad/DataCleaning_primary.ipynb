{
 "cells": [
  {
   "cell_type": "code",
   "execution_count": 132,
   "metadata": {
    "collapsed": true
   },
   "outputs": [],
   "source": [
    "import pandas as pd\n",
    "import numpy as np\n",
    "\n",
    "from pymongo import MongoClient\n",
    "\n",
    "import re\n",
    "\n",
    "#fixed issue with ascii encoding errors\n",
    "import sys\n",
    "\n",
    "reload(sys)\n",
    "sys.setdefaultencoding(\"utf-8\")\n",
    "#TODO: countvectorizer (ignores punctuation), nltk tokenizer\n",
    "\n",
    "from nltk.tokenize import *"
   ]
  },
  {
   "cell_type": "code",
   "execution_count": 133,
   "metadata": {
    "collapsed": true
   },
   "outputs": [],
   "source": [
    "client = MongoClient()\n",
    "client = MongoClient('localhost', 27017)\n",
    "db = client.POETRY\n",
    "poets = db.POET\n",
    "poems = db.POEM\n",
    "rawpoet = pd.DataFrame(list(poets.find()))\n",
    "rawpoem = pd.DataFrame(list(poems.find()))"
   ]
  },
  {
   "cell_type": "markdown",
   "metadata": {},
   "source": [
    "### clean rawpoet table. At the moment, _id, poet_positions, & posyears (position years) column values appear unusable\n",
    "### drop these columns for now"
   ]
  },
  {
   "cell_type": "code",
   "execution_count": 134,
   "metadata": {
    "collapsed": true
   },
   "outputs": [],
   "source": [
    "ctodrop = ['_id', 'poet_positions', 'poet_posyears']\n",
    "rawpoet.drop(ctodrop, 1,inplace = True)"
   ]
  },
  {
   "cell_type": "code",
   "execution_count": 135,
   "metadata": {
    "collapsed": false
   },
   "outputs": [],
   "source": [
    "ctostr = ['movement_name','poet_bio','poet_name', 'poet_basicbio', 'poet_tags']\n",
    "\n",
    "for i in ctostr:\n",
    "    rawpoet[i] = rawpoet[i].map(lambda x: u''.join(x))"
   ]
  },
  {
   "cell_type": "code",
   "execution_count": 136,
   "metadata": {
    "collapsed": false
   },
   "outputs": [
    {
     "data": {
      "text/html": [
       "<div>\n",
       "<table border=\"1\" class=\"dataframe\">\n",
       "  <thead>\n",
       "    <tr style=\"text-align: right;\">\n",
       "      <th></th>\n",
       "      <th>movement_name</th>\n",
       "      <th>movement_url</th>\n",
       "      <th>poet_basicbio</th>\n",
       "      <th>poet_bio</th>\n",
       "      <th>poet_dob2</th>\n",
       "      <th>poet_name</th>\n",
       "      <th>poet_poems_url</th>\n",
       "      <th>poet_tags</th>\n",
       "      <th>poet_url</th>\n",
       "    </tr>\n",
       "  </thead>\n",
       "  <tbody>\n",
       "    <tr>\n",
       "      <th>0</th>\n",
       "      <td>Slam/Spoken Word</td>\n",
       "      <td>http://www.poets.org/poetsorg/poets?field_scho...</td>\n",
       "      <td></td>\n",
       "      <td>Taylor Mali is a four-time National Poetry Sla...</td>\n",
       "      <td>NaN</td>\n",
       "      <td>Taylor Mali</td>\n",
       "      <td>http://www.poets.org/poetsorg/poems/406436</td>\n",
       "      <td>\\n                      \\n                    ...</td>\n",
       "      <td>http://www.poets.org/poetsorg/poet/taylor-mali</td>\n",
       "    </tr>\n",
       "  </tbody>\n",
       "</table>\n",
       "</div>"
      ],
      "text/plain": [
       "      movement_name                                       movement_url  \\\n",
       "0  Slam/Spoken Word  http://www.poets.org/poetsorg/poets?field_scho...   \n",
       "\n",
       "  poet_basicbio                                           poet_bio poet_dob2  \\\n",
       "0                Taylor Mali is a four-time National Poetry Sla...       NaN   \n",
       "\n",
       "     poet_name                              poet_poems_url  \\\n",
       "0  Taylor Mali  http://www.poets.org/poetsorg/poems/406436   \n",
       "\n",
       "                                           poet_tags  \\\n",
       "0  \\n                      \\n                    ...   \n",
       "\n",
       "                                         poet_url  \n",
       "0  http://www.poets.org/poetsorg/poet/taylor-mali  "
      ]
     },
     "execution_count": 136,
     "metadata": {},
     "output_type": "execute_result"
    }
   ],
   "source": [
    "# rawpoet.head()[:1]"
   ]
  },
  {
   "cell_type": "markdown",
   "metadata": {},
   "source": [
    "###the poet's movement name tag is very important, we need to clean (remove dup tags), separate out into columns, then merge back into a clean poet table"
   ]
  },
  {
   "cell_type": "code",
   "execution_count": 138,
   "metadata": {
    "collapsed": false
   },
   "outputs": [],
   "source": [
    "rawpoet['tags'] = rawpoet[['movement_name', 'poet_tags']].apply(lambda x: list(set(str(x))),axis=1)\n",
    "rawpoet['tags'] = rawpoet[['movement_name', 'poet_tags']].apply(lambda x: list(set(x)),axis=1)\n",
    "rawpoet['tags'] = rawpoet['tags'].apply(lambda x: x.replace('-','').replace(' ','').split(\"\\n\"))\n",
    "rawpoet['tags']=rawpoet['tags'].map(lambda x: ''.join(x).split(\",\"))"
   ]
  },
  {
   "cell_type": "code",
   "execution_count": 139,
   "metadata": {
    "collapsed": false
   },
   "outputs": [
    {
     "data": {
      "text/plain": [
       "0    [Slam/SpokenWord]\n",
       "1       [Contemporary]\n",
       "2       [Objectivists]\n",
       "3         [Surrealism]\n",
       "4         [Surrealism]\n",
       "5         [Surrealism]\n",
       "6         [Surrealism]\n",
       "7       [Objectivists]\n",
       "8       [Objectivists]\n",
       "9       [Objectivists]\n",
       "Name: tags, dtype: object"
      ]
     },
     "execution_count": 139,
     "metadata": {},
     "output_type": "execute_result"
    }
   ],
   "source": [
    "# rawpoet.tags[:10]"
   ]
  },
  {
   "cell_type": "code",
   "execution_count": 140,
   "metadata": {
    "collapsed": false
   },
   "outputs": [],
   "source": [
    "ptags = rawpoet['tags'].apply(pd.Series)"
   ]
  },
  {
   "cell_type": "code",
   "execution_count": 141,
   "metadata": {
    "collapsed": false
   },
   "outputs": [
    {
     "data": {
      "text/html": [
       "<div>\n",
       "<table border=\"1\" class=\"dataframe\">\n",
       "  <thead>\n",
       "    <tr style=\"text-align: right;\">\n",
       "      <th></th>\n",
       "      <th>primary_tag</th>\n",
       "      <th>tag2</th>\n",
       "      <th>tag3</th>\n",
       "      <th>tag4</th>\n",
       "    </tr>\n",
       "  </thead>\n",
       "  <tbody>\n",
       "    <tr>\n",
       "      <th>0</th>\n",
       "      <td>Slam/SpokenWord</td>\n",
       "      <td>NaN</td>\n",
       "      <td>NaN</td>\n",
       "      <td>NaN</td>\n",
       "    </tr>\n",
       "    <tr>\n",
       "      <th>1</th>\n",
       "      <td>Contemporary</td>\n",
       "      <td>NaN</td>\n",
       "      <td>NaN</td>\n",
       "      <td>NaN</td>\n",
       "    </tr>\n",
       "    <tr>\n",
       "      <th>2</th>\n",
       "      <td>Objectivists</td>\n",
       "      <td>NaN</td>\n",
       "      <td>NaN</td>\n",
       "      <td>NaN</td>\n",
       "    </tr>\n",
       "    <tr>\n",
       "      <th>3</th>\n",
       "      <td>Surrealism</td>\n",
       "      <td>NaN</td>\n",
       "      <td>NaN</td>\n",
       "      <td>NaN</td>\n",
       "    </tr>\n",
       "    <tr>\n",
       "      <th>4</th>\n",
       "      <td>Surrealism</td>\n",
       "      <td>NaN</td>\n",
       "      <td>NaN</td>\n",
       "      <td>NaN</td>\n",
       "    </tr>\n",
       "  </tbody>\n",
       "</table>\n",
       "</div>"
      ],
      "text/plain": [
       "       primary_tag tag2 tag3 tag4\n",
       "0  Slam/SpokenWord  NaN  NaN  NaN\n",
       "1     Contemporary  NaN  NaN  NaN\n",
       "2     Objectivists  NaN  NaN  NaN\n",
       "3       Surrealism  NaN  NaN  NaN\n",
       "4       Surrealism  NaN  NaN  NaN"
      ]
     },
     "execution_count": 141,
     "metadata": {},
     "output_type": "execute_result"
    }
   ],
   "source": [
    "ptags.columns = ['primary_tag', 'tag2', 'tag3','tag4']\n",
    "ptags.head()"
   ]
  },
  {
   "cell_type": "markdown",
   "metadata": {},
   "source": [
    "##now we need to look at poet births/deaths"
   ]
  },
  {
   "cell_type": "code",
   "execution_count": 142,
   "metadata": {
    "collapsed": false
   },
   "outputs": [],
   "source": [
    "def extract_birth(text, born = True):\n",
    "    extracted = 0\n",
    "    if str(text) != 'nan':\n",
    "        if not born:\n",
    "            if len(text)>1:\n",
    "                extracted = int(text[1])\n",
    "        else:           \n",
    "            extracted = int(text[0])\n",
    "    return extracted"
   ]
  },
  {
   "cell_type": "code",
   "execution_count": 143,
   "metadata": {
    "collapsed": false
   },
   "outputs": [],
   "source": [
    "rawpoet['yr_born'] = rawpoet['poet_dob2'].apply(lambda x: extract_birth(x))\n",
    "rawpoet['yr_died'] = rawpoet['poet_dob2'].apply(lambda x: extract_birth(x,False))"
   ]
  },
  {
   "cell_type": "code",
   "execution_count": 144,
   "metadata": {
    "collapsed": false
   },
   "outputs": [],
   "source": [
    "rawpoet['basic_bio']=rawpoet['poet_basicbio'].apply(lambda x: x.replace('-',''))"
   ]
  },
  {
   "cell_type": "markdown",
   "metadata": {},
   "source": [
    "poet_basicbio contains a secondary source of birth and death years. It also contains where the poet was born; city, state and country. We need to extract this information."
   ]
  },
  {
   "cell_type": "code",
   "execution_count": 145,
   "metadata": {
    "collapsed": true
   },
   "outputs": [],
   "source": [
    "rawpoet['basic_bio']=rawpoet['poet_basicbio'].apply(lambda x: x.replace('-',''))\n",
    "\n",
    "#extract anything that is a number\n",
    "rawpoet['birthdeath'] = rawpoet['basic_bio'].map(lambda x: re.findall(r'\\d+', x))\n",
    "#extract non-numeric characters\n",
    "rawpoet['birthplace'] = rawpoet['basic_bio'].map(lambda x: re.findall(r'[^\\d]+', x))\n",
    "rawpoet['birthplace'] = rawpoet['birthplace'].apply(lambda x: u''.join(x))"
   ]
  },
  {
   "cell_type": "code",
   "execution_count": 146,
   "metadata": {
    "collapsed": false
   },
   "outputs": [],
   "source": [
    "def extract_bio(text, part = 'city'):\n",
    "    x = text.split(',')\n",
    "    y = x[0].strip().split(' ')\n",
    "    city = []\n",
    "    state = ''\n",
    "    country = ''\n",
    "    for i in y:\n",
    "        if len(i) == 2:\n",
    "            state = i\n",
    "        if len(i) > 2:\n",
    "            city.append(i)\n",
    "    if len(x)>1:\n",
    "        country = x[1]\n",
    "    \n",
    "    if part == 'city':\n",
    "        return ' '.join(city).strip()\n",
    "    elif part == 'state':\n",
    "        return state.strip()\n",
    "    else:\n",
    "        return country.strip()"
   ]
  },
  {
   "cell_type": "code",
   "execution_count": 147,
   "metadata": {
    "collapsed": false
   },
   "outputs": [],
   "source": [
    "rawpoet['city'] = rawpoet['birthplace'].map(lambda x: extract_bio(x))\n",
    "rawpoet['state'] = rawpoet['birthplace'].map(lambda x: extract_bio(x, 'state'))\n",
    "rawpoet['country'] = rawpoet['birthplace'].map(lambda x: extract_bio(x, 'country'))"
   ]
  },
  {
   "cell_type": "code",
   "execution_count": 150,
   "metadata": {
    "collapsed": false
   },
   "outputs": [],
   "source": [
    "rawpoet.columns\n",
    "coltokeep= ['poet_name','poet_url','poet_poems_url','tags','poet_bio','yr_born','yr_died','city','state','country']\n",
    "poetdf = pd.concat([rawpoet[coltokeep],ptags],axis=1)"
   ]
  },
  {
   "cell_type": "code",
   "execution_count": 151,
   "metadata": {
    "collapsed": true
   },
   "outputs": [],
   "source": [
    "poetdf['dead'] = np.where(poetdf['yr_died'] > 0,1,0)\n",
    "poetdf['current_age'] = np.where(poetdf['dead'] == 0, (2015- poetdf['yr_born']), 0)\n",
    "poetdf['age_dead'] = np.where(poetdf['dead'] == 1, (poetdf['yr_died']-poetdf['yr_born']), 0)\n",
    "poetdf['current_age'] = np.where(poetdf['current_age'] == 2015, 0,poetdf['current_age'])"
   ]
  },
  {
   "cell_type": "code",
   "execution_count": 159,
   "metadata": {
    "collapsed": false
   },
   "outputs": [],
   "source": [
    "# rawpoem.head()\n",
    "poemdf = rawpoem[['poet_poems_url','poem_title', 'poem_yrpub', 'poem_text', 'poem_link']]\n",
    "resultdf = pd.merge(poetdf, poemdf, how='inner', on=['poet_poems_url'])"
   ]
  },
  {
   "cell_type": "code",
   "execution_count": 162,
   "metadata": {
    "collapsed": false
   },
   "outputs": [],
   "source": [
    "resultdf.to_pickle('resultdf.pkl')"
   ]
  },
  {
   "cell_type": "markdown",
   "metadata": {},
   "source": [
    "Variables:\n",
    "\n",
    "* year published\n",
    "* total number of words\n",
    "* avg words per new line\n",
    "* total number of stanzas\n",
    "* avg newlines per stanza\n",
    "* if first word of each line starts with capital letter\n",
    "* number of words with capital letters\n",
    "* number of commas\n",
    "* commas per line\n",
    "* number of periods\n",
    "* number of exclamations\n",
    "* number of pronoun references\n",
    "* if i, my is used bool\n",
    "* type token ratio\n",
    "* concrete words/words overall\n",
    "* abstract/words overall\n",
    "* number of named entities/total words\n",
    "* alliteration\n",
    "* number of sensory words\n",
    "* topic modeling - political"
   ]
  },
  {
   "cell_type": "code",
   "execution_count": 161,
   "metadata": {
    "collapsed": false
   },
   "outputs": [
    {
     "data": {
      "text/plain": [
       "Index([     u'poet_name',       u'poet_url', u'poet_poems_url',\n",
       "                 u'tags',       u'poet_bio',        u'yr_born',\n",
       "              u'yr_died',           u'city',          u'state',\n",
       "              u'country',    u'primary_tag',           u'tag2',\n",
       "                 u'tag3',           u'tag4',           u'dead',\n",
       "          u'current_age',       u'age_dead',     u'poem_title',\n",
       "           u'poem_yrpub',      u'poem_text',      u'poem_link'],\n",
       "      dtype='object')"
      ]
     },
     "execution_count": 161,
     "metadata": {},
     "output_type": "execute_result"
    }
   ],
   "source": [
    "resultdf.columns\n",
    "# rawpoem.columns\n"
   ]
  }
 ],
 "metadata": {
  "kernelspec": {
   "display_name": "Python 2",
   "language": "python",
   "name": "python2"
  },
  "language_info": {
   "codemirror_mode": {
    "name": "ipython",
    "version": 2
   },
   "file_extension": ".py",
   "mimetype": "text/x-python",
   "name": "python",
   "nbconvert_exporter": "python",
   "pygments_lexer": "ipython2",
   "version": "2.7.10"
  }
 },
 "nbformat": 4,
 "nbformat_minor": 0
}
