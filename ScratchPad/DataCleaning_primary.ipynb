{
 "cells": [
  {
   "cell_type": "code",
   "execution_count": 1,
   "metadata": {
    "collapsed": true
   },
   "outputs": [],
   "source": [
    "import pandas as pd\n",
    "import numpy as np\n",
    "\n",
    "from pymongo import MongoClient\n",
    "\n",
    "import re\n",
    "\n",
    "#fixed issue with ascii encoding errors\n",
    "import sys\n",
    "\n",
    "reload(sys)\n",
    "sys.setdefaultencoding(\"utf-8\")\n",
    "#TODO: countvectorizer (ignores punctuation), nltk tokenizer\n",
    "\n",
    "from nltk.tokenize import *"
   ]
  },
  {
   "cell_type": "code",
   "execution_count": 2,
   "metadata": {
    "collapsed": true
   },
   "outputs": [],
   "source": [
    "client = MongoClient()\n",
    "client = MongoClient('localhost', 27017)\n",
    "db = client.POETRY\n",
    "poets = db.POET\n",
    "poems = db.POEM\n",
    "rawpoet = pd.DataFrame(list(poets.find()))\n",
    "rawpoem = pd.DataFrame(list(poems.find()))"
   ]
  },
  {
   "cell_type": "markdown",
   "metadata": {},
   "source": [
    "### clean rawpoet table. At the moment, _id, poet_positions, & posyears (position years) column values appear unusable\n",
    "### drop these columns for now"
   ]
  },
  {
   "cell_type": "code",
   "execution_count": 3,
   "metadata": {
    "collapsed": true
   },
   "outputs": [],
   "source": [
    "ctodrop = ['_id', 'poet_positions', 'poet_posyears']\n",
    "rawpoet.drop(ctodrop, 1,inplace = True)"
   ]
  },
  {
   "cell_type": "code",
   "execution_count": 4,
   "metadata": {
    "collapsed": false
   },
   "outputs": [],
   "source": [
    "ctostr = ['movement_name','poet_bio','poet_name', 'poet_basicbio', 'poet_tags']\n",
    "\n",
    "for i in ctostr:\n",
    "    rawpoet[i] = rawpoet[i].map(lambda x: u''.join(x))"
   ]
  },
  {
   "cell_type": "code",
   "execution_count": 5,
   "metadata": {
    "collapsed": false
   },
   "outputs": [
    {
     "data": {
      "text/html": [
       "<div>\n",
       "<table border=\"1\" class=\"dataframe\">\n",
       "  <thead>\n",
       "    <tr style=\"text-align: right;\">\n",
       "      <th></th>\n",
       "      <th>movement_name</th>\n",
       "      <th>movement_url</th>\n",
       "      <th>poet_basicbio</th>\n",
       "      <th>poet_bio</th>\n",
       "      <th>poet_dob2</th>\n",
       "      <th>poet_name</th>\n",
       "      <th>poet_poems_url</th>\n",
       "      <th>poet_tags</th>\n",
       "      <th>poet_url</th>\n",
       "    </tr>\n",
       "  </thead>\n",
       "  <tbody>\n",
       "    <tr>\n",
       "      <th>0</th>\n",
       "      <td>Slam/Spoken Word</td>\n",
       "      <td>http://www.poets.org/poetsorg/poets?field_scho...</td>\n",
       "      <td></td>\n",
       "      <td>Taylor Mali is a four-time National Poetry Sla...</td>\n",
       "      <td>NaN</td>\n",
       "      <td>Taylor Mali</td>\n",
       "      <td>http://www.poets.org/poetsorg/poems/406436</td>\n",
       "      <td>\\n                      \\n                    ...</td>\n",
       "      <td>http://www.poets.org/poetsorg/poet/taylor-mali</td>\n",
       "    </tr>\n",
       "  </tbody>\n",
       "</table>\n",
       "</div>"
      ],
      "text/plain": [
       "      movement_name                                       movement_url  \\\n",
       "0  Slam/Spoken Word  http://www.poets.org/poetsorg/poets?field_scho...   \n",
       "\n",
       "  poet_basicbio                                           poet_bio poet_dob2  \\\n",
       "0                Taylor Mali is a four-time National Poetry Sla...       NaN   \n",
       "\n",
       "     poet_name                              poet_poems_url  \\\n",
       "0  Taylor Mali  http://www.poets.org/poetsorg/poems/406436   \n",
       "\n",
       "                                           poet_tags  \\\n",
       "0  \\n                      \\n                    ...   \n",
       "\n",
       "                                         poet_url  \n",
       "0  http://www.poets.org/poetsorg/poet/taylor-mali  "
      ]
     },
     "execution_count": 5,
     "metadata": {},
     "output_type": "execute_result"
    }
   ],
   "source": [
    "rawpoet.head()[:1]"
   ]
  },
  {
   "cell_type": "markdown",
   "metadata": {},
   "source": [
    "###the poet's movement name tag is very important, we need to clean (remove dup tags), separate out into columns, then merge back into a clean poet table"
   ]
  },
  {
   "cell_type": "code",
   "execution_count": 6,
   "metadata": {
    "collapsed": false
   },
   "outputs": [],
   "source": [
    "rawpoet['tags'] = rawpoet[['movement_name', 'poet_tags']].apply(lambda x: list(set(str(x))),axis=1)\n",
    "rawpoet['tags'] = rawpoet[['movement_name', 'poet_tags']].apply(lambda x: list(set(x)),axis=1)\n",
    "rawpoet['tags'] = rawpoet['tags'].apply(lambda x: x.replace('-','').replace(' ','').split(\"\\n\"))\n",
    "rawpoet['tags']=rawpoet['tags'].map(lambda x: ''.join(x).split(\",\"))"
   ]
  },
  {
   "cell_type": "code",
   "execution_count": 7,
   "metadata": {
    "collapsed": false
   },
   "outputs": [
    {
     "data": {
      "text/plain": [
       "0    [Slam/SpokenWord]\n",
       "1       [Contemporary]\n",
       "2       [Objectivists]\n",
       "3         [Surrealism]\n",
       "4         [Surrealism]\n",
       "5         [Surrealism]\n",
       "6         [Surrealism]\n",
       "7       [Objectivists]\n",
       "8       [Objectivists]\n",
       "9       [Objectivists]\n",
       "Name: tags, dtype: object"
      ]
     },
     "execution_count": 7,
     "metadata": {},
     "output_type": "execute_result"
    }
   ],
   "source": [
    "rawpoet.tags[:10]"
   ]
  },
  {
   "cell_type": "code",
   "execution_count": 8,
   "metadata": {
    "collapsed": false
   },
   "outputs": [],
   "source": [
    "ptags = rawpoet['tags'].apply(pd.Series)"
   ]
  },
  {
   "cell_type": "code",
   "execution_count": 9,
   "metadata": {
    "collapsed": false
   },
   "outputs": [
    {
     "data": {
      "text/html": [
       "<div>\n",
       "<table border=\"1\" class=\"dataframe\">\n",
       "  <thead>\n",
       "    <tr style=\"text-align: right;\">\n",
       "      <th></th>\n",
       "      <th>primary_tag</th>\n",
       "      <th>tag2</th>\n",
       "      <th>tag3</th>\n",
       "      <th>tag4</th>\n",
       "    </tr>\n",
       "  </thead>\n",
       "  <tbody>\n",
       "    <tr>\n",
       "      <th>0</th>\n",
       "      <td>Slam/SpokenWord</td>\n",
       "      <td>NaN</td>\n",
       "      <td>NaN</td>\n",
       "      <td>NaN</td>\n",
       "    </tr>\n",
       "    <tr>\n",
       "      <th>1</th>\n",
       "      <td>Contemporary</td>\n",
       "      <td>NaN</td>\n",
       "      <td>NaN</td>\n",
       "      <td>NaN</td>\n",
       "    </tr>\n",
       "    <tr>\n",
       "      <th>2</th>\n",
       "      <td>Objectivists</td>\n",
       "      <td>NaN</td>\n",
       "      <td>NaN</td>\n",
       "      <td>NaN</td>\n",
       "    </tr>\n",
       "    <tr>\n",
       "      <th>3</th>\n",
       "      <td>Surrealism</td>\n",
       "      <td>NaN</td>\n",
       "      <td>NaN</td>\n",
       "      <td>NaN</td>\n",
       "    </tr>\n",
       "    <tr>\n",
       "      <th>4</th>\n",
       "      <td>Surrealism</td>\n",
       "      <td>NaN</td>\n",
       "      <td>NaN</td>\n",
       "      <td>NaN</td>\n",
       "    </tr>\n",
       "  </tbody>\n",
       "</table>\n",
       "</div>"
      ],
      "text/plain": [
       "       primary_tag tag2 tag3 tag4\n",
       "0  Slam/SpokenWord  NaN  NaN  NaN\n",
       "1     Contemporary  NaN  NaN  NaN\n",
       "2     Objectivists  NaN  NaN  NaN\n",
       "3       Surrealism  NaN  NaN  NaN\n",
       "4       Surrealism  NaN  NaN  NaN"
      ]
     },
     "execution_count": 9,
     "metadata": {},
     "output_type": "execute_result"
    }
   ],
   "source": [
    "ptags.columns = ['primary_tag', 'tag2', 'tag3','tag4']\n",
    "ptags.head()"
   ]
  },
  {
   "cell_type": "markdown",
   "metadata": {},
   "source": [
    "##now we need to look at poet births/deaths"
   ]
  },
  {
   "cell_type": "code",
   "execution_count": 10,
   "metadata": {
    "collapsed": false
   },
   "outputs": [],
   "source": [
    "plife = rawpoet['poet_dob2'].apply(pd.Series)"
   ]
  },
  {
   "cell_type": "code",
   "execution_count": 11,
   "metadata": {
    "collapsed": false
   },
   "outputs": [
    {
     "data": {
      "text/html": [
       "<div>\n",
       "<table border=\"1\" class=\"dataframe\">\n",
       "  <thead>\n",
       "    <tr style=\"text-align: right;\">\n",
       "      <th></th>\n",
       "      <th>yr_born</th>\n",
       "      <th>yr_died</th>\n",
       "    </tr>\n",
       "  </thead>\n",
       "  <tbody>\n",
       "    <tr>\n",
       "      <th>0</th>\n",
       "      <td>NaN</td>\n",
       "      <td>NaN</td>\n",
       "    </tr>\n",
       "    <tr>\n",
       "      <th>1</th>\n",
       "      <td>NaN</td>\n",
       "      <td>NaN</td>\n",
       "    </tr>\n",
       "    <tr>\n",
       "      <th>2</th>\n",
       "      <td>1942</td>\n",
       "      <td>1997</td>\n",
       "    </tr>\n",
       "    <tr>\n",
       "      <th>3</th>\n",
       "      <td>1926</td>\n",
       "      <td>2001</td>\n",
       "    </tr>\n",
       "    <tr>\n",
       "      <th>4</th>\n",
       "      <td>1926</td>\n",
       "      <td>NaN</td>\n",
       "    </tr>\n",
       "  </tbody>\n",
       "</table>\n",
       "</div>"
      ],
      "text/plain": [
       "  yr_born yr_died\n",
       "0     NaN     NaN\n",
       "1     NaN     NaN\n",
       "2    1942    1997\n",
       "3    1926    2001\n",
       "4    1926     NaN"
      ]
     },
     "execution_count": 11,
     "metadata": {},
     "output_type": "execute_result"
    }
   ],
   "source": [
    "plife.columns = ['yr_born', 'yr_died']\n",
    "plife.head()"
   ]
  },
  {
   "cell_type": "markdown",
   "metadata": {},
   "source": [
    "poet_basicbio contains a secondary source of birth and death years. It also contains where the poet was born; city, state and country. We need to extract this information."
   ]
  },
  {
   "cell_type": "code",
   "execution_count": 12,
   "metadata": {
    "collapsed": true
   },
   "outputs": [],
   "source": [
    "rawpoet['basic_bio']=rawpoet['poet_basicbio'].apply(lambda x: x.replace('-',''))\n",
    "\n",
    "#extract anything that is a number\n",
    "rawpoet['birthdeath'] = rawpoet['basic_bio'].map(lambda x: re.findall(r'\\d+', x))\n",
    "#extract non-numeric characters\n",
    "rawpoet['birthplace'] = rawpoet['basic_bio'].map(lambda x: re.findall(r'[^\\d]+', x))\n",
    "rawpoet['birthplace'] = rawpoet['birthplace'].apply(lambda x: u''.join(x))"
   ]
  },
  {
   "cell_type": "code",
   "execution_count": 13,
   "metadata": {
    "collapsed": false
   },
   "outputs": [],
   "source": [
    "rawpoet['citystate']=rawpoet['birthplace'].map(lambda x: x.split(\",\"))\n",
    "pbirth = rawpoet['citystate'].apply(pd.Series)"
   ]
  },
  {
   "cell_type": "code",
   "execution_count": 16,
   "metadata": {
    "collapsed": false
   },
   "outputs": [],
   "source": [
    "pbirth.columns = ['citystate','country','country2']\n",
    "pbirth['citystate'] = pbirth['citystate'].map(lambda x: x.split(\"         \"))\n",
    "pstate = pbirth['citystate'].apply(pd.Series)\n",
    "pstate.fillna('', inplace =True)"
   ]
  },
  {
   "cell_type": "code",
   "execution_count": 17,
   "metadata": {
    "collapsed": false
   },
   "outputs": [],
   "source": [
    "pstate.columns = ['first','second','third','fourth','fifth']\n",
    "pstate.drop('fifth',axis = 1, inplace = True)"
   ]
  },
  {
   "cell_type": "markdown",
   "metadata": {},
   "source": [
    "##TODO: write function to do the below"
   ]
  },
  {
   "cell_type": "code",
   "execution_count": 18,
   "metadata": {
    "collapsed": false
   },
   "outputs": [],
   "source": [
    "pstate['state'] = pstate['second'].map(lambda x: str(x).replace(' ','') if len(str(x).replace(' ','')) == 2 else '')\n",
    "pstate['city'] = pstate['second'].map(lambda x: str(x) if len(str(x).replace(' ','')) > 2 else '')\n",
    "pstate['state2']=pstate['third'].map(lambda x: str(x).replace(' ','') if len(str(x).replace(' ','')) == 2 else '')\n",
    "pstate['city2'] = pstate['third'].map(lambda x: str(x) if len(str(x).replace(' ','')) > 2 else '')\n",
    "pstate['state3']=pstate['fourth'].map(lambda x: str(x).replace(' ','') if len(str(x).replace(' ','')) == 2 else '')\n",
    "pstate['city3']=pstate['fourth'].map(lambda x: str(x) if len(str(x).replace(' ','')) > 2 else '')\n",
    "pstate['state4']=pstate['first'].map(lambda x: str(x).replace(' ','') if len(str(x).replace(' ','')) == 2 else '')\n",
    "pstate['city4']=pstate['first'].map(lambda x: str(x) if len(str(x).replace(' ','')) > 2 else '')"
   ]
  },
  {
   "cell_type": "code",
   "execution_count": 19,
   "metadata": {
    "collapsed": true
   },
   "outputs": [],
   "source": [
    "pstate.drop(['first','second','third','fourth'],axis = 1, inplace = True)"
   ]
  },
  {
   "cell_type": "code",
   "execution_count": 20,
   "metadata": {
    "collapsed": false
   },
   "outputs": [],
   "source": [
    "pstate['city'] = pstate['city']+pstate['city2']+pstate['city3']+pstate['city4']\n",
    "pstate['state'] = pstate['state']+pstate['state2']+pstate['state3']+pstate['state4']\n",
    "pstate['city']=pstate['city'].map(lambda x: x.lstrip().rstrip())\n",
    "pstate['state']=pstate['state'].map(lambda x: x.lstrip().rstrip())"
   ]
  },
  {
   "cell_type": "code",
   "execution_count": 21,
   "metadata": {
    "collapsed": false
   },
   "outputs": [],
   "source": [
    "pstate.drop(['city2','city3','city4','state2','state3','state4'], axis=1, inplace = True)\n",
    "pbirth.drop('citystate', axis = 1, inplace = True)"
   ]
  },
  {
   "cell_type": "code",
   "execution_count": 22,
   "metadata": {
    "collapsed": false
   },
   "outputs": [],
   "source": [
    "pbirth.fillna('',inplace=True)\n",
    "pbio = pd.concat([pstate,pbirth],axis=1)"
   ]
  },
  {
   "cell_type": "code",
   "execution_count": 23,
   "metadata": {
    "collapsed": false
   },
   "outputs": [],
   "source": [
    "pbio['country2']=pbio['country2'].map(lambda x: x.lstrip().rstrip())\n",
    "pbio['country']=pbio['country'].map(lambda x: x.lstrip().rstrip())"
   ]
  },
  {
   "cell_type": "code",
   "execution_count": 24,
   "metadata": {
    "collapsed": false
   },
   "outputs": [],
   "source": [
    "pbio.loc[pbio['city']=='Kensington', 'city'] = 'Kensington,London'\n",
    "pbio.loc[pbio['city']=='Castledawson', 'city'] = 'Castledawson,County Derry'\n",
    "pbio.loc[pbio['city']=='Kensington,London', 'country'] = 'United Kingdom'\n",
    "pbio.loc[pbio['city']=='Castledawson,County Derry','country'] = 'Ireland' "
   ]
  },
  {
   "cell_type": "code",
   "execution_count": 25,
   "metadata": {
    "collapsed": false
   },
   "outputs": [],
   "source": [
    "pbio.drop('country2', axis=1, inplace=True)"
   ]
  },
  {
   "cell_type": "code",
   "execution_count": 26,
   "metadata": {
    "collapsed": false
   },
   "outputs": [],
   "source": [
    "rawpoet.columns\n",
    "coltokeep= ['poet_name','poet_url','poet_poems_url','tags','poet_bio']\n",
    "poetdf = pd.concat([rawpoet[coltokeep],pbio,plife,ptags],axis=1)"
   ]
  },
  {
   "cell_type": "code",
   "execution_count": 27,
   "metadata": {
    "collapsed": false
   },
   "outputs": [],
   "source": [
    "poetdf['yr_born'].fillna(0, inplace = True)\n",
    "poetdf['yr_died'].fillna(0, inplace = True)\n",
    "# poetdf.head()\n",
    "poetdf[['yr_born', 'yr_died']]= poetdf[['yr_born', 'yr_died']].astype(int)"
   ]
  },
  {
   "cell_type": "code",
   "execution_count": 28,
   "metadata": {
    "collapsed": true
   },
   "outputs": [],
   "source": [
    "poetdf['dead'] = np.where(poetdf['yr_died'] > 0,1,0)\n",
    "poetdf['current_age'] = np.where(poetdf['dead'] == 0, (2015- poetdf['yr_born']), 0)\n",
    "poetdf['age_dead'] = np.where(poetdf['dead'] == 1, (poetdf['yr_died']-poetdf['yr_born']), 0)\n",
    "poetdf['current_age'] = np.where(poetdf['current_age'] == 2015, 0,poetdf['current_age'])"
   ]
  },
  {
   "cell_type": "code",
   "execution_count": 29,
   "metadata": {
    "collapsed": false
   },
   "outputs": [],
   "source": [
    "rawpoem.head()\n",
    "poemdf = rawpoem[['poet_poems_url','poem_title', 'poem_yrpub', 'poem_text']]\n",
    "resultdf = pd.merge(poetdf, poemdf, how='inner', on=['poet_poems_url'])"
   ]
  },
  {
   "cell_type": "code",
   "execution_count": 30,
   "metadata": {
    "collapsed": false
   },
   "outputs": [
    {
     "data": {
      "text/plain": [
       "[Contemporary]                                          704\n",
       "[Modernism]                                             111\n",
       "[LanguagePoetry]                                         68\n",
       "[NewYorkSchool]                                          67\n",
       "[Surrealism]                                             59\n",
       "[Formalism]                                              59\n",
       "[ConfessionalPoetry]                                     49\n",
       "[JazzPoetry]                                             38\n",
       "[Symbolists]                                             36\n",
       "[HarlemRenaissance]                                      34\n",
       "[Imagism, MetaphysicalPoet, Modernism, Objectivists]     34\n",
       "[Beat]                                                   34\n",
       "[Objectivists]                                           28\n",
       "[MetaphysicalPoet, Modernism]                            21\n",
       "[Imagism, MetaphysicalPoet, Modernism]                   20\n",
       "[BlackMountain]                                          19\n",
       "[ConcretePoetry]                                         17\n",
       "[DarkRoomCollective]                                     16\n",
       "[BlackArts]                                              14\n",
       "[ConceptualPoetry]                                       13\n",
       "[SanFranciscoRenaissance]                                 7\n",
       "[FiresidePoet, JazzPoetry, Modernism]                     4\n",
       "[BlackMountain, SanFranciscoRenaissance]                  4\n",
       "[Contemporary, Slam/SpokenWord]                           4\n",
       "[BlackArts, JazzPoetry]                                   3\n",
       "[Slam/SpokenWord]                                         3\n",
       "[NewFormalism]                                            1\n",
       "dtype: int64"
      ]
     },
     "execution_count": 30,
     "metadata": {},
     "output_type": "execute_result"
    }
   ],
   "source": [
    "resultdf['tags'].value_counts()"
   ]
  },
  {
   "cell_type": "code",
   "execution_count": 31,
   "metadata": {
    "collapsed": false
   },
   "outputs": [
    {
     "data": {
      "text/plain": [
       "Index([     u'poet_name',       u'poet_url', u'poet_poems_url',\n",
       "                 u'tags',       u'poet_bio',          u'state',\n",
       "                 u'city',        u'country',        u'yr_born',\n",
       "              u'yr_died',    u'primary_tag',           u'tag2',\n",
       "                 u'tag3',           u'tag4',           u'dead',\n",
       "          u'current_age',       u'age_dead',     u'poem_title',\n",
       "           u'poem_yrpub',      u'poem_text'],\n",
       "      dtype='object')"
      ]
     },
     "execution_count": 31,
     "metadata": {},
     "output_type": "execute_result"
    }
   ],
   "source": [
    "resultdf.columns"
   ]
  },
  {
   "cell_type": "markdown",
   "metadata": {},
   "source": [
    "Variables:\n",
    "\n",
    "* year published\n",
    "* total number of words\n",
    "* avg words per new line\n",
    "* total number of stanzas\n",
    "* avg newlines per stanza\n",
    "* if first word of each line starts with capital letter\n",
    "* number of words with capital letters\n",
    "* number of commas\n",
    "* commas per line\n",
    "* number of periods\n",
    "* number of exclamations\n",
    "* number of pronoun references\n",
    "* if i, my is used bool\n",
    "* type token ratio\n",
    "* concrete words/words overall\n",
    "* abstract/words overall\n",
    "* number of named entities/total words\n",
    "* alliteration\n",
    "* number of sensory words\n",
    "* topic modeling - political"
   ]
  },
  {
   "cell_type": "code",
   "execution_count": 106,
   "metadata": {
    "collapsed": false
   },
   "outputs": [
    {
     "data": {
      "text/plain": [
       "[u'\\nIt was going on five in the morning\\nThe ship of steam stretched its chain to shatter the windows\\nAnd outside\\nA glowworm\\nLifted Paris like a leaf\\nIt was only a long trembling scream\\nA scream from the Maternity Hospital nearby\\nFINIS FOUNDRY FANATIC\\nBut whatever joy escaped in the exhalation of that pain\\nIt seems to me that I was falling for a long time\\nI still had my fist clenched around a handful of grass\\nAnd suddenly that rustle of flowers and needles of ice\\nThose green eyebrows that shooting-star pendulum\\nFrom what depths was the bell actually able to rise again\\nThe hermetic bell\\nWhich nothing last night made me foresee would stop on this landing\\nThe bell whose sides read\\nUndine\\nMoving to raise your spearheaded Sagittarius pedal\\nYou had carved the infallible signs\\nOf my enchantment\\nWith a dagger whose coral handle forks into infinity\\nSo that your blood and mine \\nWould become one',\n",
       " u'\\n']"
      ]
     },
     "execution_count": 106,
     "metadata": {},
     "output_type": "execute_result"
    }
   ],
   "source": [
    "text = resultdf.poem_text[12]\n",
    "text"
   ]
  },
  {
   "cell_type": "code",
   "execution_count": 113,
   "metadata": {
    "collapsed": false
   },
   "outputs": [
    {
     "data": {
      "text/plain": [
       "u'\\nIt was going on five in the morning\\nThe ship of steam stretched its chain to shatter the windows\\nAnd outside\\nA glowworm\\nLifted Paris like a leaf\\nIt was only a long trembling scream\\nA scream from the Maternity Hospital nearby\\nFINIS FOUNDRY FANATIC\\nBut whatever joy escaped in the exhalation of that pain\\nIt seems to me that I was falling for a long time\\nI still had my fist clenched around a handful of grass\\nAnd suddenly that rustle of flowers and needles of ice\\nThose green eyebrows that shooting-star pendulum\\nFrom what depths was the bell actually able to rise again\\nThe hermetic bell\\nWhich nothing last night made me foresee would stop on this landing\\nThe bell whose sides read\\nUndine\\nMoving to raise your spearheaded Sagittarius pedal\\nYou had carved the infallible signs\\nOf my enchantment\\nWith a dagger whose coral handle forks into infinity\\nSo that your blood and mine \\nWould become one'"
      ]
     },
     "execution_count": 113,
     "metadata": {},
     "output_type": "execute_result"
    }
   ],
   "source": [
    "text[0]"
   ]
  },
  {
   "cell_type": "code",
   "execution_count": 94,
   "metadata": {
    "collapsed": false
   },
   "outputs": [],
   "source": [
    "ltext = []\n",
    "# s.decode('unicode_escape')\n",
    "for i in text:\n",
    "    i.decode('unicode_escape')\n",
    "    i = re.sub(u\"\\u2018\", \"'\", i)\n",
    "    i = re.sub(u\"\\u2019\", \"'\", i)\n",
    "    i = re.sub(u\"\\u2014\", \"-\", i)\n",
    "#     i = re.sub(u\"\\'\", \"\", i)\n",
    "    ltext.append(i)    "
   ]
  },
  {
   "cell_type": "code",
   "execution_count": 95,
   "metadata": {
    "collapsed": false
   },
   "outputs": [
    {
     "data": {
      "text/plain": [
       "[u'\\nAmidst the too much that we buy and throw\\naway and the far too much we wrap it in,\\nthe bear found a few items of special\\ninterest--a honeydew rind, a used tampon,\\nthe bone from a leg of lamb. He\\'d rock back\\nlightly onto his rear paws and slash\\nopen a plastic bag, and then his nose--\\njammed almost with a surfeit of rank\\nand likely information, for he would pause--\\nand then his whole dowsing snout would\\ninsinuate itself a little way\\ninside. By now he\\'d have hunched his weight \\nforward slightly, and then he\\'d snatch it back,\\ntrailed by some tidbit in his teeth. He\\'d look\\naround. What a good boy am he.\\nThe guardian of the dump was used\\nto this and not amused. \"He\\'ll drag that shit\\nevery which damn way,\" he grumbled\\nwho\\'d dozed and scraped a pit to keep that shit\\nwhere the town paid to contain it.\\nThe others of us looked and looked. \"City\\nfolks like you don\\'t get to see this often,\"\\none year-round resident accused me.\\nSome winter I\\'ll bring him down to learn\\nto love a rat working a length of subway\\ntrack. \"Nope,\" I replied. Just then the bear\\ndecamped for the woods with a marl of grease\\nand slather in his mouth and on his snout,\\npicking up speed, not cute (nor had he been\\ncute before, slavering with greed, his weight\\nall sunk to his seated rump and his nose stuck\\nup to sift the rich and fetid air, shaped\\nlike a huge, furry pear), but richly\\nfed on the slow-simmering dump, and gone\\ninto the bug-thick woods and anecdote.',\n",
       " u'\\n']"
      ]
     },
     "execution_count": 95,
     "metadata": {},
     "output_type": "execute_result"
    }
   ],
   "source": [
    "ltext"
   ]
  }
 ],
 "metadata": {
  "kernelspec": {
   "display_name": "Python 2",
   "language": "python",
   "name": "python2"
  },
  "language_info": {
   "codemirror_mode": {
    "name": "ipython",
    "version": 2
   },
   "file_extension": ".py",
   "mimetype": "text/x-python",
   "name": "python",
   "nbconvert_exporter": "python",
   "pygments_lexer": "ipython2",
   "version": "2.7.10"
  }
 },
 "nbformat": 4,
 "nbformat_minor": 0
}
