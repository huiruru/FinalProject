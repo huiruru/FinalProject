{
 "cells": [
  {
   "cell_type": "code",
   "execution_count": 19,
   "metadata": {
    "collapsed": true
   },
   "outputs": [],
   "source": [
    "import pandas as pd\n",
    "import numpy as np\n",
    "\n",
    "from pymongo import MongoClient\n",
    "\n",
    "import re\n",
    "\n",
    "#fixed issue with ascii encoding errors\n",
    "import sys\n",
    "\n",
    "reload(sys)\n",
    "sys.setdefaultencoding(\"utf-8\")\n",
    "#TODO: countvectorizer (ignores punctuation), nltk tokenizer"
   ]
  },
  {
   "cell_type": "code",
   "execution_count": 20,
   "metadata": {
    "collapsed": true
   },
   "outputs": [],
   "source": [
    "#code to put data from mongodb named Poetry into two separate Pandas DataFrame\n",
    "client = MongoClient()\n",
    "client = MongoClient('localhost', 27017)\n",
    "db = client.POETRY\n",
    "\n",
    "poets = db.POET\n",
    "poems = db.POEM\n",
    "\n",
    "rawpoet = pd.DataFrame(list(poets.find()))\n",
    "rawpoem = pd.DataFrame(list(poems.find()))"
   ]
  },
  {
   "cell_type": "markdown",
   "metadata": {},
   "source": [
    "### clean rawpoet table. At the moment, _id, poet_positions, & posyears (position years) column values appear unusable\n",
    "### drop these columns for now"
   ]
  },
  {
   "cell_type": "code",
   "execution_count": 21,
   "metadata": {
    "collapsed": true
   },
   "outputs": [],
   "source": [
    "ctodrop = ['_id', 'poet_positions', 'poet_posyears']\n",
    "rawpoet.drop(ctodrop, 1,inplace = True)"
   ]
  },
  {
   "cell_type": "code",
   "execution_count": 22,
   "metadata": {
    "collapsed": false
   },
   "outputs": [],
   "source": [
    "#These are the columns that contain list of strings or strings that \n",
    "#need to be turned into one string for cleaning/extraction\n",
    "\n",
    "ctostr = ['movement_name','poet_bio','poet_name', 'poet_basicbio', 'poet_tags']\n",
    "\n",
    "for i in ctostr:\n",
    "    rawpoet[i] = rawpoet[i].map(lambda x: u''.join(x))"
   ]
  },
  {
   "cell_type": "code",
   "execution_count": 23,
   "metadata": {
    "collapsed": false
   },
   "outputs": [],
   "source": [
    "# rawpoet.head()[:1]"
   ]
  },
  {
   "cell_type": "markdown",
   "metadata": {},
   "source": [
    "###the poet's movement name tag is very important, we need to clean (remove dup tags), separate out into columns, then merge back into a clean poet table"
   ]
  },
  {
   "cell_type": "code",
   "execution_count": 24,
   "metadata": {
    "collapsed": false
   },
   "outputs": [],
   "source": [
    "rawpoet['tags'] = rawpoet[['movement_name', 'poet_tags']].apply(lambda x: list(set(str(x))),axis=1)\n",
    "rawpoet['tags'] = rawpoet[['movement_name', 'poet_tags']].apply(lambda x: list(set(x)),axis=1)\n",
    "rawpoet['tags'] = rawpoet['tags'].apply(lambda x: x.replace('-','').replace(' ','').split(\"\\n\"))\n",
    "rawpoet['tags']=rawpoet['tags'].map(lambda x: ''.join(x).split(\",\"))"
   ]
  },
  {
   "cell_type": "code",
   "execution_count": 25,
   "metadata": {
    "collapsed": false
   },
   "outputs": [
    {
     "data": {
      "text/plain": [
       "0    [Slam/SpokenWord]\n",
       "1       [Contemporary]\n",
       "2       [Objectivists]\n",
       "3         [Surrealism]\n",
       "4         [Surrealism]\n",
       "5         [Surrealism]\n",
       "6         [Surrealism]\n",
       "7       [Objectivists]\n",
       "8       [Objectivists]\n",
       "9       [Objectivists]\n",
       "Name: tags, dtype: object"
      ]
     },
     "execution_count": 25,
     "metadata": {},
     "output_type": "execute_result"
    }
   ],
   "source": [
    "rawpoet.tags[:10]"
   ]
  },
  {
   "cell_type": "code",
   "execution_count": 26,
   "metadata": {
    "collapsed": false
   },
   "outputs": [
    {
     "data": {
      "text/html": [
       "<div>\n",
       "<table border=\"1\" class=\"dataframe\">\n",
       "  <thead>\n",
       "    <tr style=\"text-align: right;\">\n",
       "      <th></th>\n",
       "      <th>primary_tag</th>\n",
       "      <th>tag2</th>\n",
       "      <th>tag3</th>\n",
       "      <th>tag4</th>\n",
       "    </tr>\n",
       "  </thead>\n",
       "  <tbody>\n",
       "    <tr>\n",
       "      <th>0</th>\n",
       "      <td>Slam/SpokenWord</td>\n",
       "      <td>NaN</td>\n",
       "      <td>NaN</td>\n",
       "      <td>NaN</td>\n",
       "    </tr>\n",
       "    <tr>\n",
       "      <th>1</th>\n",
       "      <td>Contemporary</td>\n",
       "      <td>NaN</td>\n",
       "      <td>NaN</td>\n",
       "      <td>NaN</td>\n",
       "    </tr>\n",
       "    <tr>\n",
       "      <th>2</th>\n",
       "      <td>Objectivists</td>\n",
       "      <td>NaN</td>\n",
       "      <td>NaN</td>\n",
       "      <td>NaN</td>\n",
       "    </tr>\n",
       "    <tr>\n",
       "      <th>3</th>\n",
       "      <td>Surrealism</td>\n",
       "      <td>NaN</td>\n",
       "      <td>NaN</td>\n",
       "      <td>NaN</td>\n",
       "    </tr>\n",
       "    <tr>\n",
       "      <th>4</th>\n",
       "      <td>Surrealism</td>\n",
       "      <td>NaN</td>\n",
       "      <td>NaN</td>\n",
       "      <td>NaN</td>\n",
       "    </tr>\n",
       "  </tbody>\n",
       "</table>\n",
       "</div>"
      ],
      "text/plain": [
       "       primary_tag tag2 tag3 tag4\n",
       "0  Slam/SpokenWord  NaN  NaN  NaN\n",
       "1     Contemporary  NaN  NaN  NaN\n",
       "2     Objectivists  NaN  NaN  NaN\n",
       "3       Surrealism  NaN  NaN  NaN\n",
       "4       Surrealism  NaN  NaN  NaN"
      ]
     },
     "execution_count": 26,
     "metadata": {},
     "output_type": "execute_result"
    }
   ],
   "source": [
    "#Split out the list of tags from the tags column and put into a data frame to then concat \n",
    "#back into a final cleaned poet dataframe\n",
    "ptags = rawpoet['tags'].apply(pd.Series)\n",
    "ptags.columns = ['primary_tag', 'tag2', 'tag3','tag4']\n",
    "ptags.head()"
   ]
  },
  {
   "cell_type": "markdown",
   "metadata": {},
   "source": [
    "##now we need to look at poet births/deaths"
   ]
  },
  {
   "cell_type": "code",
   "execution_count": 27,
   "metadata": {
    "collapsed": false
   },
   "outputs": [],
   "source": [
    "def extract_birth(text, born = True):\n",
    "    \"\"\"Helper function that takes a list of two strings of text, converts them into integers \n",
    "    return the either the first one or the second (if the second isn't empty; empty = 0)\"\"\"\n",
    "    extracted = 0\n",
    "    if str(text) != 'nan':\n",
    "        if not born:\n",
    "            if len(text)>1:\n",
    "                extracted = int(text[1])\n",
    "        else:           \n",
    "            extracted = int(text[0])\n",
    "    return extracted"
   ]
  },
  {
   "cell_type": "code",
   "execution_count": 28,
   "metadata": {
    "collapsed": false
   },
   "outputs": [],
   "source": [
    "#use the helper function extract_birth to fill the poet birth yr, yr died (if dead) variables\n",
    "rawpoet['yr_born'] = rawpoet['poet_dob2'].apply(lambda x: extract_birth(x))\n",
    "rawpoet['yr_died'] = rawpoet['poet_dob2'].apply(lambda x: extract_birth(x,False))"
   ]
  },
  {
   "cell_type": "code",
   "execution_count": 29,
   "metadata": {
    "collapsed": false
   },
   "outputs": [],
   "source": [
    "#put the poet_basicbio, which is a string, into another cleaned string column to work with\n",
    "rawpoet['basic_bio']=rawpoet['poet_basicbio'].apply(lambda x: x.replace('-',''))"
   ]
  },
  {
   "cell_type": "markdown",
   "metadata": {},
   "source": [
    "poet_basicbio contains a secondary source of birth and death years. It also contains where the poet was born; city, state and country. We need to extract this information."
   ]
  },
  {
   "cell_type": "code",
   "execution_count": 30,
   "metadata": {
    "collapsed": true
   },
   "outputs": [],
   "source": [
    "#extract anything that is a number\n",
    "rawpoet['birthdeath'] = rawpoet['basic_bio'].map(lambda x: re.findall(r'\\d+', x))\n",
    "\n",
    "#extract non-numeric characters\n",
    "rawpoet['birthplace'] = rawpoet['basic_bio'].map(lambda x: re.findall(r'[^\\d]+', x))\n",
    "rawpoet['birthplace'] = rawpoet['birthplace'].apply(lambda x: u''.join(x))"
   ]
  },
  {
   "cell_type": "code",
   "execution_count": 31,
   "metadata": {
    "collapsed": false
   },
   "outputs": [],
   "source": [
    "def extract_bio(text, part = 'city'):\n",
    "    \"\"\"Helper function to extract city, state, and country string variables from the birthplace column\"\"\"\n",
    "    \n",
    "    split_text_blob = text.split(',')\n",
    "    \n",
    "    # based on the data found in the column, the second item as delimited by the comma is the country\n",
    "    # where the poet represents/is from, the first item in the column is the city state, separated by spaces\n",
    "    \n",
    "    citystate = split_text_blob[0].strip().split(' ')\n",
    "    \n",
    "    city = []\n",
    "    state = ''\n",
    "    country = ''\n",
    "    \n",
    "    for word in citystate:\n",
    "        #state is two chars long\n",
    "        if len(word) == 2:\n",
    "            state = word\n",
    "        #city names are longer than state abbreviation, could also contain \n",
    "        #county or neighborhood if poet is non-US based\n",
    "        if len(word) > 2:\n",
    "            city.append(word)\n",
    "            \n",
    "    if len(word)>1:\n",
    "        country = word[1]\n",
    "    \n",
    "    if part == 'city':\n",
    "        return ' '.join(city).strip()\n",
    "    elif part == 'state':\n",
    "        return state.strip()\n",
    "    else:\n",
    "        return country.strip()"
   ]
  },
  {
   "cell_type": "code",
   "execution_count": 32,
   "metadata": {
    "collapsed": false
   },
   "outputs": [],
   "source": [
    "rawpoet['city'] = rawpoet['birthplace'].map(lambda x: extract_bio(x))\n",
    "rawpoet['state'] = rawpoet['birthplace'].map(lambda x: extract_bio(x, 'state'))\n",
    "rawpoet['country'] = rawpoet['birthplace'].map(lambda x: extract_bio(x, 'country'))"
   ]
  },
  {
   "cell_type": "code",
   "execution_count": 33,
   "metadata": {
    "collapsed": false
   },
   "outputs": [],
   "source": [
    "#Now the data is more or less ready to put in cleaned dataframe of poet information\n",
    "#rawpoet.columns\n",
    "\n",
    "coltokeep= ['poet_name','poet_url','poet_poems_url','tags','poet_bio','yr_born','yr_died','city','state','country']\n",
    "\n",
    "poetdf = pd.concat([rawpoet[coltokeep],ptags],axis=1)"
   ]
  },
  {
   "cell_type": "code",
   "execution_count": 34,
   "metadata": {
    "collapsed": true
   },
   "outputs": [],
   "source": [
    "#Not sure if I want to keep these variables calculated from the birth and death information about each poet\n",
    "#using them for now\n",
    "#It's 2015 now, so use this to calculate current age if poet hasn't died\n",
    "\n",
    "poetdf['dead'] = np.where(poetdf['yr_died'] > 0,1,0)\n",
    "poetdf['current_age'] = np.where(poetdf['dead'] == 0, (2015- poetdf['yr_born']), 0)\n",
    "poetdf['age_dead'] = np.where(poetdf['dead'] == 1, (poetdf['yr_died']-poetdf['yr_born']), 0)\n",
    "poetdf['current_age'] = np.where(poetdf['current_age'] == 2015, 0,poetdf['current_age'])"
   ]
  },
  {
   "cell_type": "code",
   "execution_count": 35,
   "metadata": {
    "collapsed": false
   },
   "outputs": [],
   "source": [
    "#Combine cleaned poet dataframe and poem data frame based on the foreign key identifier, poet_poems_url\n",
    "# rawpoem.head()\n",
    "poemdf = rawpoem[['poet_poems_url','poem_title', 'poem_yrpub', 'poem_text', 'poem_link']]\n",
    "resultdf = pd.merge(poetdf, poemdf, how='inner', on=['poet_poems_url'])"
   ]
  },
  {
   "cell_type": "code",
   "execution_count": 36,
   "metadata": {
    "collapsed": false
   },
   "outputs": [],
   "source": [
    "#Save the results to a pickle file. Alternatively, can also save to a collection in the same POETRY database\n",
    "\n",
    "resultdf.to_pickle('resultdf.pkl')"
   ]
  },
  {
   "cell_type": "markdown",
   "metadata": {},
   "source": [
    "Variables:\n",
    "\n",
    "* year published\n",
    "* total number of words\n",
    "* avg words per new line\n",
    "* total number of stanzas\n",
    "* avg newlines per stanza\n",
    "* if first word of each line starts with capital letter\n",
    "* number of words with capital letters\n",
    "* number of commas\n",
    "* commas per line\n",
    "* number of periods\n",
    "* number of exclamations\n",
    "* number of pronoun references\n",
    "* if i, my is used bool\n",
    "* type token ratio\n",
    "* concrete words/words overall\n",
    "* abstract/words overall\n",
    "* number of named entities/total words\n",
    "* alliteration\n",
    "* number of sensory words\n",
    "* topic modeling - political"
   ]
  },
  {
   "cell_type": "code",
   "execution_count": 37,
   "metadata": {
    "collapsed": false
   },
   "outputs": [
    {
     "data": {
      "text/plain": [
       "Index([     u'poet_name',       u'poet_url', u'poet_poems_url',\n",
       "                 u'tags',       u'poet_bio',        u'yr_born',\n",
       "              u'yr_died',           u'city',          u'state',\n",
       "              u'country',    u'primary_tag',           u'tag2',\n",
       "                 u'tag3',           u'tag4',           u'dead',\n",
       "          u'current_age',       u'age_dead',     u'poem_title',\n",
       "           u'poem_yrpub',      u'poem_text',      u'poem_link'],\n",
       "      dtype='object')"
      ]
     },
     "execution_count": 37,
     "metadata": {},
     "output_type": "execute_result"
    }
   ],
   "source": [
    "resultdf.columns\n",
    "# rawpoem.columns"
   ]
  }
 ],
 "metadata": {
  "kernelspec": {
   "display_name": "Python 2",
   "language": "python",
   "name": "python2"
  },
  "language_info": {
   "codemirror_mode": {
    "name": "ipython",
    "version": 2
   },
   "file_extension": ".py",
   "mimetype": "text/x-python",
   "name": "python",
   "nbconvert_exporter": "python",
   "pygments_lexer": "ipython2",
   "version": "2.7.10"
  }
 },
 "nbformat": 4,
 "nbformat_minor": 0
}
