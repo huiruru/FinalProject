{
 "cells": [
  {
   "cell_type": "code",
   "execution_count": 40,
   "metadata": {
    "collapsed": true
   },
   "outputs": [],
   "source": [
    "import pandas as pd\n",
    "import numpy as np\n",
    "\n",
    "from pymongo import MongoClient\n",
    "\n",
    "import re\n",
    "\n",
    "#fixed issue with ascii encoding errors\n",
    "import sys\n",
    "\n",
    "reload(sys)\n",
    "sys.setdefaultencoding(\"utf-8\")\n",
    "#TODO: countvectorizer (ignores punctuation), nltk tokenizer\n",
    "\n",
    "from nltk.tokenize import *"
   ]
  },
  {
   "cell_type": "code",
   "execution_count": 41,
   "metadata": {
    "collapsed": true
   },
   "outputs": [],
   "source": [
    "client = MongoClient()\n",
    "client = MongoClient('localhost', 27017)\n",
    "db = client.POETRY\n",
    "poems = db.POEM\n",
    "rawpoem = pd.DataFrame(list(poems.find()))"
   ]
  },
  {
   "cell_type": "markdown",
   "metadata": {},
   "source": [
    "some poem videos made it in the data so we need to remove them"
   ]
  },
  {
   "cell_type": "code",
   "execution_count": 42,
   "metadata": {
    "collapsed": false
   },
   "outputs": [],
   "source": [
    "coltouse = ['poem_link', 'poet_poems_url','poem_yrpub','poem_title','poem_text']\n",
    "# poemdf = rawpoem.loc[rawpoem['poem_title'] ][coltouse]\n",
    "\n",
    "poemdf = rawpoem.loc[rawpoem['poem_link'].str.contains('video') == False][coltouse]"
   ]
  },
  {
   "cell_type": "code",
   "execution_count": 105,
   "metadata": {
    "collapsed": false
   },
   "outputs": [],
   "source": [
    "text = poemdf.poem_text[1]"
   ]
  },
  {
   "cell_type": "code",
   "execution_count": 100,
   "metadata": {
    "collapsed": false
   },
   "outputs": [
    {
     "data": {
      "text/plain": [
       "11"
      ]
     },
     "execution_count": 100,
     "metadata": {},
     "output_type": "execute_result"
    }
   ],
   "source": [
    "expression = '.+\\n'\n",
    "\n",
    "len(re.findall(expression, text))"
   ]
  },
  {
   "cell_type": "code",
   "execution_count": 99,
   "metadata": {
    "collapsed": false
   },
   "outputs": [],
   "source": [
    "text = u''.join(text)"
   ]
  },
  {
   "cell_type": "code",
   "execution_count": 106,
   "metadata": {
    "collapsed": false
   },
   "outputs": [
    {
     "data": {
      "text/plain": [
       "2"
      ]
     },
     "execution_count": 106,
     "metadata": {},
     "output_type": "execute_result"
    }
   ],
   "source": [
    "# poemdf['poem_text'].map(lambda x: len(re.findall(expression,u''.join(x))))\n",
    "len(text)"
   ]
  },
  {
   "cell_type": "code",
   "execution_count": 153,
   "metadata": {
    "collapsed": true
   },
   "outputs": [],
   "source": [
    "def countlines(text):\n",
    "    expression ='.+\\n'\n",
    "    strtext = u''.join(text)\n",
    "    if len(re.findall(expression,strtext)) == 0:\n",
    "        numnewl = len(text)\n",
    "    else:\n",
    "        numnewl = len(re.findall(expression, strtext))\n",
    "    return float(numnewl)\n",
    "\n",
    "def countstanza(text):\n",
    "    excexpression = '.+\\n'\n",
    "    expression = '.+\\n\\n'\n",
    "    strtext = u''.join(text)\n",
    "    numstanzas = 0\n",
    "    if len(re.findall(excexpression,strtext)) == 0:\n",
    "        for i in text:\n",
    "            if len(str(i)) ==0:\n",
    "                numstanzas += 1\n",
    "    else:\n",
    "        numstanzas = len(re.findall(expression, strtext))\n",
    "    return float(numstanzas+1)"
   ]
  },
  {
   "cell_type": "code",
   "execution_count": 124,
   "metadata": {
    "collapsed": false
   },
   "outputs": [],
   "source": [
    "poemdf['numlines'] = poemdf['poem_text'].apply(lambda x: countlines(x))\n",
    "poemdf['numstanzas'] = poemdf['poem_text'].apply(lambda x: countstanza(x))"
   ]
  },
  {
   "cell_type": "code",
   "execution_count": 143,
   "metadata": {
    "collapsed": false
   },
   "outputs": [
    {
     "data": {
      "text/plain": [
       "poet_poems_url\n",
       "http://www.poets.org/poetsorg/poems/120970     1.000000\n",
       "http://www.poets.org/poetsorg/poems/120979     1.000000\n",
       "http://www.poets.org/poetsorg/poems/120986     1.000000\n",
       "http://www.poets.org/poetsorg/poems/121506     1.000000\n",
       "http://www.poets.org/poetsorg/poems/123231     1.000000\n",
       "http://www.poets.org/poetsorg/poems/125236     1.000000\n",
       "http://www.poets.org/poetsorg/poems/129086     2.000000\n",
       "http://www.poets.org/poetsorg/poems/339926     1.000000\n",
       "http://www.poets.org/poetsorg/poems/404586     1.000000\n",
       "http://www.poets.org/poetsorg/poems/405236     1.000000\n",
       "http://www.poets.org/poetsorg/poems/406436     1.000000\n",
       "http://www.poets.org/poetsorg/poems/417266     1.000000\n",
       "http://www.poets.org/poetsorg/poems/44303      3.842105\n",
       "http://www.poets.org/poetsorg/poems/44311      3.000000\n",
       "http://www.poets.org/poetsorg/poems/44328      1.000000\n",
       "http://www.poets.org/poetsorg/poems/44330     10.500000\n",
       "http://www.poets.org/poetsorg/poems/44348     11.666667\n",
       "http://www.poets.org/poetsorg/poems/44353     22.000000\n",
       "http://www.poets.org/poetsorg/poems/44358      3.555556\n",
       "http://www.poets.org/poetsorg/poems/44359      5.461538\n",
       "http://www.poets.org/poetsorg/poems/44360     22.333333\n",
       "http://www.poets.org/poetsorg/poems/44365     35.500000\n",
       "http://www.poets.org/poetsorg/poems/44370      1.000000\n",
       "http://www.poets.org/poetsorg/poems/44371      4.333333\n",
       "http://www.poets.org/poetsorg/poems/44378      2.000000\n",
       "http://www.poets.org/poetsorg/poems/44381     16.666667\n",
       "http://www.poets.org/poetsorg/poems/44382      5.333333\n",
       "http://www.poets.org/poetsorg/poems/44385      2.000000\n",
       "http://www.poets.org/poetsorg/poems/44388      5.000000\n",
       "http://www.poets.org/poetsorg/poems/44389      9.666667\n",
       "                                                ...    \n",
       "http://www.poets.org/poetsorg/poems/46510      3.666667\n",
       "http://www.poets.org/poetsorg/poems/46511      1.000000\n",
       "http://www.poets.org/poetsorg/poems/46523      4.000000\n",
       "http://www.poets.org/poetsorg/poems/46541      2.750000\n",
       "http://www.poets.org/poetsorg/poems/46550      2.000000\n",
       "http://www.poets.org/poetsorg/poems/46569      5.000000\n",
       "http://www.poets.org/poetsorg/poems/46570      1.000000\n",
       "http://www.poets.org/poetsorg/poems/46573      3.333333\n",
       "http://www.poets.org/poetsorg/poems/46590      1.000000\n",
       "http://www.poets.org/poetsorg/poems/46591     27.666667\n",
       "http://www.poets.org/poetsorg/poems/46615     13.750000\n",
       "http://www.poets.org/poetsorg/poems/46618     17.250000\n",
       "http://www.poets.org/poetsorg/poems/46646      2.600000\n",
       "http://www.poets.org/poetsorg/poems/46648     10.000000\n",
       "http://www.poets.org/poetsorg/poems/46650      2.500000\n",
       "http://www.poets.org/poetsorg/poems/46652      3.500000\n",
       "http://www.poets.org/poetsorg/poems/46693      8.166667\n",
       "http://www.poets.org/poetsorg/poems/46722      5.000000\n",
       "http://www.poets.org/poetsorg/poems/46740      1.000000\n",
       "http://www.poets.org/poetsorg/poems/46768      1.000000\n",
       "http://www.poets.org/poetsorg/poems/46770      1.000000\n",
       "http://www.poets.org/poetsorg/poems/46773      1.000000\n",
       "http://www.poets.org/poetsorg/poems/46776      1.000000\n",
       "http://www.poets.org/poetsorg/poems/46779      1.000000\n",
       "http://www.poets.org/poetsorg/poems/46786      1.000000\n",
       "http://www.poets.org/poetsorg/poems/46787      1.000000\n",
       "http://www.poets.org/poetsorg/poems/46789      1.000000\n",
       "http://www.poets.org/poetsorg/poems/46793      1.000000\n",
       "http://www.poets.org/poetsorg/poems/46794      1.000000\n",
       "http://www.poets.org/poetsorg/poems/81376      8.000000\n",
       "Name: numstanzas, dtype: float64"
      ]
     },
     "execution_count": 143,
     "metadata": {},
     "output_type": "execute_result"
    }
   ],
   "source": [
    "poemdf.numstanzas.mean()\n",
    "poemdf.groupby(['poet_poems_url'])['numstanzas'].mean()"
   ]
  },
  {
   "cell_type": "code",
   "execution_count": 208,
   "metadata": {
    "collapsed": false
   },
   "outputs": [],
   "source": [
    "text = poemdf.poem_text[8]\n",
    "text = u''.join(text)"
   ]
  },
  {
   "cell_type": "code",
   "execution_count": 163,
   "metadata": {
    "collapsed": false
   },
   "outputs": [],
   "source": [
    "def sent_avglines(text):\n",
    "    nlines = []\n",
    "    t_sent = sent_tokenize(text)\n",
    "    for i in t_sent:\n",
    "        nlines.append(countlines(i))\n",
    "    return np.mean(nlines)\n",
    "# sent_tokenize(text)"
   ]
  },
  {
   "cell_type": "code",
   "execution_count": 170,
   "metadata": {
    "collapsed": false
   },
   "outputs": [],
   "source": [
    "poemdf['avgline_stanza'] = poemdf['numlines']/poemdf['numstanzas']"
   ]
  },
  {
   "cell_type": "code",
   "execution_count": 188,
   "metadata": {
    "collapsed": false
   },
   "outputs": [],
   "source": [
    "def count_words(text, distinct = False):    \n",
    "    tokenizer = RegexpTokenizer(r'\\w+')\n",
    "    tokenized = tokenizer.tokenize(u''.join(text))\n",
    "    numwords = len(tokenized)\n",
    "    if distinct:\n",
    "        numwords = len(list(set(tokenized)))\n",
    "    return numwords            "
   ]
  },
  {
   "cell_type": "code",
   "execution_count": 213,
   "metadata": {
    "collapsed": false
   },
   "outputs": [],
   "source": [
    "poemdf['wordcount'] = poemdf['poem_text'].apply(lambda x: count_words(x))\n",
    "poemdf['wordcount_d'] = poemdf['poem_text'].apply(lambda x: count_words(x,True))\n",
    "poemdf['ttr'] = poemdf['wordcount_d']/poemdf['wordcount']"
   ]
  },
  {
   "cell_type": "code",
   "execution_count": 276,
   "metadata": {
    "collapsed": false
   },
   "outputs": [
    {
     "data": {
      "text/plain": [
       "poem_yrpub\n",
       "\\n                0.845390\n",
       "1556              0.774497\n",
       "1710              0.796512\n",
       "1717              0.389560\n",
       "1733              0.492512\n",
       "1734              0.836364\n",
       "1735              0.592233\n",
       "1772              0.764577\n",
       "1773              0.705882\n",
       "1775              0.711246\n",
       "1909              0.776128\n",
       "1910              0.584582\n",
       "1912              0.696538\n",
       "1913              0.713280\n",
       "1914              0.559258\n",
       "1915              0.675723\n",
       "1916              0.684400\n",
       "1917              0.735873\n",
       "1918              0.627521\n",
       "1919              0.757061\n",
       "1920              0.722060\n",
       "1921              0.755508\n",
       "1922              0.698945\n",
       "1923              0.746556\n",
       "1924              0.857143\n",
       "1926              1.000000\n",
       "1927              0.503872\n",
       "1928              0.700000\n",
       "1931              0.734234\n",
       "1933              0.780089\n",
       "                    ...   \n",
       "1986              0.655750\n",
       "1987              0.654762\n",
       "1988              0.631535\n",
       "1989              0.655286\n",
       "1990              0.659660\n",
       "1991              0.649855\n",
       "1992              0.686437\n",
       "1993              0.678624\n",
       "1994              0.632568\n",
       "1995              0.675294\n",
       "1996              0.699859\n",
       "1997              0.648616\n",
       "1998              0.680204\n",
       "1999              0.663678\n",
       "2000              0.669199\n",
       "2001              0.682133\n",
       "2002              0.733522\n",
       "2003              0.699859\n",
       "2004              0.714249\n",
       "2005              0.656123\n",
       "2006              0.693110\n",
       "2007              0.682463\n",
       "2008              0.650307\n",
       "2009              0.651650\n",
       "2010              0.683973\n",
       "2011              0.692012\n",
       "2012              0.698802\n",
       "2013              0.722896\n",
       "2014              0.719690\n",
       "2015              0.733667\n",
       "Name: ttr, dtype: float64"
      ]
     },
     "execution_count": 276,
     "metadata": {},
     "output_type": "execute_result"
    }
   ],
   "source": [
    "poemdf.head()\n",
    "poemdf.groupby(['poem_yrpub'])['ttr'].mean()\n",
    "# poemdf.dtypes"
   ]
  },
  {
   "cell_type": "code",
   "execution_count": 264,
   "metadata": {
    "collapsed": false
   },
   "outputs": [],
   "source": [
    "# poem.poem_yrpub\n",
    "poemdf['poem_yrpub'].value_counts()[50:80]\n",
    "# poemdf['yrpub'] = poemdf['poem_yrpub'].map(lambda x: re.findall(r'[\\d]+', x))\n",
    "# poemdf['yrpub'] = poemdf['yrpub'].astype(int)\n",
    "yrpub = poemdf['poem_yrpub'].apply(pd.Series)"
   ]
  },
  {
   "cell_type": "code",
   "execution_count": 267,
   "metadata": {
    "collapsed": false
   },
   "outputs": [],
   "source": [
    "yrpub.columns = ['yrpublished']"
   ]
  },
  {
   "cell_type": "code",
   "execution_count": 268,
   "metadata": {
    "collapsed": true
   },
   "outputs": [],
   "source": [
    "poemdf = pd.concat([poemdf, yrpub], axis = 1)"
   ]
  },
  {
   "cell_type": "code",
   "execution_count": 201,
   "metadata": {
    "collapsed": false
   },
   "outputs": [],
   "source": [
    "from nltk.corpus import stopwords\n",
    "from nltk import *"
   ]
  },
  {
   "cell_type": "code",
   "execution_count": 211,
   "metadata": {
    "collapsed": false
   },
   "outputs": [
    {
     "data": {
      "text/plain": [
       "[(u'I', 'PRP'),\n",
       " (u\"'m\", 'VBP'),\n",
       " (u'calling', 'VBG'),\n",
       " (u'out', 'RP'),\n",
       " (u'from', 'IN'),\n",
       " (u'pictures', 'NNS'),\n",
       " (u'to', 'TO'),\n",
       " (u'your', 'PRP$'),\n",
       " (u'vision', 'NN'),\n",
       " (u'creating', 'VBG'),\n",
       " (u'itturn', 'NN'),\n",
       " (u'right', 'RB'),\n",
       " (u',', ','),\n",
       " (u'that', 'IN'),\n",
       " (u'dream', 'NN'),\n",
       " (u'building', 'NN'),\n",
       " (u'cutglass', 'NN'),\n",
       " (u'window', 'NN'),\n",
       " (u'in', 'IN'),\n",
       " (u'door.Automatically', 'JJ'),\n",
       " (u'inside', 'NN'),\n",
       " (u'their', 'PRP$'),\n",
       " (u'apartment', 'NN'),\n",
       " (u',', ','),\n",
       " (u'you', 'PRP'),\n",
       " (u'do', 'VBP'),\n",
       " (u\"n't\", 'RB'),\n",
       " (u'haveto', 'VB'),\n",
       " (u'get', 'NN'),\n",
       " (u'there', 'RB'),\n",
       " (u'.', '.'),\n",
       " (u'This', 'DT'),\n",
       " (u'is', 'VBZ'),\n",
       " (u'before', 'IN'),\n",
       " (u'the', 'DT'),\n",
       " (u'lost', 'NN'),\n",
       " (u'sacred', 'VBD'),\n",
       " (u'corpus', 'NN'),\n",
       " (u'vision', 'NN'),\n",
       " (u',', ','),\n",
       " (u'someone', 'NN'),\n",
       " (u'says', 'VBZ'),\n",
       " (u'Look', 'NNP'),\n",
       " (u'at', 'IN'),\n",
       " (u'my', 'PRP$'),\n",
       " (u'author', 'NN'),\n",
       " (u'photo', 'NN'),\n",
       " (u'.', '.'),\n",
       " (u'Ido', 'NNP'),\n",
       " (u\"n't\", 'RB'),\n",
       " (u'really', 'RB'),\n",
       " (u'want', 'VB'),\n",
       " (u'to', 'TO'),\n",
       " (u'I', 'PRP'),\n",
       " (u\"'m\", 'VBP'),\n",
       " (u'turning', 'VBG'),\n",
       " (u'to', 'TO'),\n",
       " (u'defiant', 'JJ'),\n",
       " (u'metalnot', 'NN'),\n",
       " (u'a', 'DT'),\n",
       " (u'dream', 'NN'),\n",
       " (u'part', 'NN'),\n",
       " (u',', ','),\n",
       " (u'can', 'MD'),\n",
       " (u'you', 'PRP'),\n",
       " (u'see', 'VB'),\n",
       " (u'it', 'PRP'),\n",
       " (u'where', 'WRB'),\n",
       " (u'the', 'DT'),\n",
       " (u'movement', 'NN'),\n",
       " (u'ofimages', 'NNS'),\n",
       " (u'turns', 'VBZ'),\n",
       " (u'back', 'RB'),\n",
       " (u'towards', 'NNS'),\n",
       " (u'me', 'PRP'),\n",
       " (u'I', 'PRP'),\n",
       " (u'want', 'VBP'),\n",
       " (u'adifferent', 'JJ'),\n",
       " (u',', ','),\n",
       " (u'how', 'WRB'),\n",
       " (u'I', 'PRP'),\n",
       " (u\"'m\", 'VBP'),\n",
       " (u'portrayed', 'VBN'),\n",
       " (u'because', 'IN'),\n",
       " (u'you', 'PRP'),\n",
       " (u\"can'tsee\", 'VBP'),\n",
       " (u'me', 'PRP'),\n",
       " (u',', ','),\n",
       " (u'visage', 'NN'),\n",
       " (u'.', '.'),\n",
       " (u'Look', 'NNP'),\n",
       " (u'at', 'IN'),\n",
       " (u'me', 'PRP'),\n",
       " (u'please', 'VB'),\n",
       " (u'.', '.'),\n",
       " (u'The', 'DT'),\n",
       " (u'soul', 'NN'),\n",
       " (u'is', 'VBZ'),\n",
       " (u'so', 'RB'),\n",
       " (u'thicklarger', 'JJR'),\n",
       " (u'than', 'IN'),\n",
       " (u'the', 'DT'),\n",
       " (u'portrait', 'NN'),\n",
       " (u'what', 'WP'),\n",
       " (u'you', 'PRP'),\n",
       " (u\"'d\", 'MD'),\n",
       " (u'call', 'VB'),\n",
       " (u'madonnaesque', 'NN'),\n",
       " (u',', ','),\n",
       " (u'and', 'CC'),\n",
       " (u'then', 'RB'),\n",
       " (u'there', 'RB'),\n",
       " (u'was', 'VBD'),\n",
       " (u'more', 'JJR'),\n",
       " (u'hoax', 'NN'),\n",
       " (u'a', 'DT'),\n",
       " (u'view', 'NN'),\n",
       " (u'as', 'IN'),\n",
       " (u'I', 'PRP'),\n",
       " (u'amthe', 'VBP'),\n",
       " (u'rose', 'VBD'),\n",
       " (u'here', 'RB'),\n",
       " (u'.', '.'),\n",
       " (u'And', 'CC'),\n",
       " (u'you', 'PRP'),\n",
       " (u'never', 'RB'),\n",
       " (u'wanted', 'VBD'),\n",
       " (u'to', 'TO'),\n",
       " (u'be', 'VB'),\n",
       " (u'that', 'IN'),\n",
       " (u',', ','),\n",
       " (u'did', 'VBD'),\n",
       " (u'I', 'PRP'),\n",
       " (u'?', '.'),\n",
       " (u'I', 'PRP'),\n",
       " (u'was', 'VBD'),\n",
       " (u'waiting', 'VBG'),\n",
       " (u'to', 'TO'),\n",
       " (u'see', 'VB'),\n",
       " (u'what', 'WP'),\n",
       " (u'I', 'PRP'),\n",
       " (u'would', 'MD'),\n",
       " (u'be', 'VB'),\n",
       " (u'.', '.'),\n",
       " (u'Blacknesseats', 'NNPS'),\n",
       " (u'you', 'PRP'),\n",
       " (u'but', 'CC'),\n",
       " (u'your', 'PRP$'),\n",
       " (u'soul', 'NN'),\n",
       " (u'eats', 'NNS'),\n",
       " (u'it', 'PRP'),\n",
       " (u'without', 'IN'),\n",
       " (u'your', 'PRP$'),\n",
       " (u'knowing', 'NN'),\n",
       " (u'thatfigure', 'NN'),\n",
       " (u',', ','),\n",
       " (u'because', 'IN'),\n",
       " (u'it', 'PRP'),\n",
       " (u'is', 'VBZ'),\n",
       " (u'causing', 'VBG'),\n",
       " (u'your', 'PRP$'),\n",
       " (u'appearance', 'NN'),\n",
       " (u'to', 'TO'),\n",
       " (u'the', 'DT'),\n",
       " (u'world.They', 'JJ'),\n",
       " (u'arrange', 'NN'),\n",
       " (u'me', 'PRP'),\n",
       " (u'in', 'IN'),\n",
       " (u'clothes', 'NNS'),\n",
       " (u'of', 'IN'),\n",
       " (u'Easter', 'NNP'),\n",
       " (u',', ','),\n",
       " (u'or', 'CC'),\n",
       " (u'ofthe', 'DT'),\n",
       " (u'first', 'JJ'),\n",
       " (u'day', 'NN'),\n",
       " (u'of', 'IN'),\n",
       " (u'classes', 'NNS'),\n",
       " (u',', ','),\n",
       " (u'but', 'CC'),\n",
       " (u'I', 'PRP'),\n",
       " (u\"'m\", 'VBP'),\n",
       " (u'projecting', 'VBG'),\n",
       " (u'pigmentcracked', 'VBN'),\n",
       " (u'gold', 'NN'),\n",
       " (u'on', 'IN'),\n",
       " (u'fire', 'NN'),\n",
       " (u',', ','),\n",
       " (u'thinking', 'VBG'),\n",
       " (u'braver', 'NN'),\n",
       " (u'thoughts.It', 'NN'),\n",
       " (u'takes', 'VBZ'),\n",
       " (u'courage', 'NN'),\n",
       " (u'to', 'TO'),\n",
       " (u'get', 'VB'),\n",
       " (u'to', 'TO'),\n",
       " (u'the', 'DT'),\n",
       " (u'ancient', 'JJ'),\n",
       " (u'altarof', 'NN'),\n",
       " (u'the', 'DT'),\n",
       " (u'moment', 'NN'),\n",
       " (u'where', 'WRB'),\n",
       " (u'I', 'PRP'),\n",
       " (u'create', 'VBP'),\n",
       " (u'individual', 'JJ'),\n",
       " (u'time.The', 'JJ'),\n",
       " (u'picture', 'NN'),\n",
       " (u'body', 'NN'),\n",
       " (u'untremblingly', 'RB'),\n",
       " (u'stares', 'VBZ'),\n",
       " (u'large-eyedI', 'NNP'),\n",
       " (u'also', 'RB'),\n",
       " (u'create', 'VB'),\n",
       " (u'the', 'DT'),\n",
       " (u'tablets', 'NNS'),\n",
       " (u'of', 'IN'),\n",
       " (u'exponential', 'JJ'),\n",
       " (u'seeing', 'NN'),\n",
       " (u':', ':'),\n",
       " (u'it', 'PRP'),\n",
       " (u'brightensall', 'MD'),\n",
       " (u'around', 'VB'),\n",
       " (u'it', 'PRP'),\n",
       " (u',', ','),\n",
       " (u'as', 'IN'),\n",
       " (u'I', 'PRP'),\n",
       " (u\"'m\", 'VBP'),\n",
       " (u'the', 'DT'),\n",
       " (u'apparatus', 'NN'),\n",
       " (u'of', 'IN'),\n",
       " (u'what', 'WP'),\n",
       " (u'there', 'EX'),\n",
       " (u'is', 'VBZ'),\n",
       " (u'to', 'TO'),\n",
       " (u'be', 'VB'),\n",
       " (u';', ':'),\n",
       " (u'and', 'CC'),\n",
       " (u'I', 'PRP'),\n",
       " (u'am', 'VBP'),\n",
       " (u'making', 'VBG'),\n",
       " (u'it', 'PRP'),\n",
       " (u',', ','),\n",
       " (u'my', 'PRP$'),\n",
       " (u'time', 'NN'),\n",
       " (u'visibly', 'RB'),\n",
       " (u'becoming', 'VBG'),\n",
       " (u'me', 'PRP'),\n",
       " (u'.', '.')]"
      ]
     },
     "execution_count": 211,
     "metadata": {},
     "output_type": "execute_result"
    }
   ],
   "source": [
    "text1 = word_tokenize(text)\n",
    "pos_tag(text1)"
   ]
  }
 ],
 "metadata": {
  "kernelspec": {
   "display_name": "Python 2",
   "language": "python",
   "name": "python2"
  },
  "language_info": {
   "codemirror_mode": {
    "name": "ipython",
    "version": 2
   },
   "file_extension": ".py",
   "mimetype": "text/x-python",
   "name": "python",
   "nbconvert_exporter": "python",
   "pygments_lexer": "ipython2",
   "version": "2.7.10"
  }
 },
 "nbformat": 4,
 "nbformat_minor": 0
}
