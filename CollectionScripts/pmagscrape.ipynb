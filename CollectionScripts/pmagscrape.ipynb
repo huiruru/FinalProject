{
 "cells": [
  {
   "cell_type": "code",
   "execution_count": 2,
   "metadata": {
    "collapsed": true
   },
   "outputs": [],
   "source": [
    "from bs4 import BeautifulSoup\n",
    "import re\n",
    "import HTMLParser\n",
    "import requests\n",
    "import urllib2\n",
    "import pandas as pd\n",
    "\n",
    "\n",
    "#Create empty list for creating pandas dataframe\n",
    "listentries = []"
   ]
  },
  {
   "cell_type": "code",
   "execution_count": 3,
   "metadata": {
    "collapsed": true
   },
   "outputs": [],
   "source": [
    "url = \"http://www.poetryfoundation.org/poetrymagazine/archive\"\n",
    "page = urllib2.urlopen(url)\n",
    "soup = BeautifulSoup(page.read())"
   ]
  },
  {
   "cell_type": "code",
   "execution_count": 4,
   "metadata": {
    "collapsed": false
   },
   "outputs": [
    {
     "data": {
      "text/plain": [
       "[<script type=\"text/javascript\">/*<![CDATA[*/(function(a){function b(a,b){if(+a)return~a||(d.cookie=h+\"=; path=/\");j=d.createElement(e),k=d.getElementsByTagName(e)[0],j.src=a,b&&(j.onload=j.onerror=b),k.parentNode.insertBefore(j,k)}function c(){n.api||b(l.shift()||-1,c)}if(this.Mobify)return;var d=document,e=\"script\",f=\"mobify\",g=\".\"+f+\".com/\",h=f+\"-path\",i=g+\"un\"+f+\".js\",j,k,l=[!1,1],m,n=this.Mobify={points:[+(new Date)],tagVersion:[6,1],ajs:\"//a.mobify.com/poetry_foundation/a.js\"},o=/((; )|#|&|^)mobify-path=([^&;]*)/g.exec(location.hash+\"; \"+d.cookie);o?(m=o[3])&&!+(m=o[2]&&sessionStorage[h]||m)&&(l=[!0,\"//preview\"+g+escape(m)]):(l=a()||l,l[0]&&l.push(\"//cdn\"+i,\"//files01\"+i)),l.shift()?(d.write('<plaintext style=\"display:none;\">'),setTimeout(c)):b(l[0])})(function(){if(/ip(hone|od)|android.*(mobile)|blackberry.*applewebkit|bb1\\d.*mobile/i.test(navigator.userAgent)){return[1,\"//cdn.mobify.com/sites/poetry_foundation/production/mobify.js\"]}return[0,Mobify.ajs]})/*]]>*/</script>,\n",
       " <title>Current Issue : Poetry Magazine</title>,\n",
       " <meta content=\"all\" name=\"robots\"/>,\n",
       " <meta content=\"\" name=\"keywords\"/>,\n",
       " <meta content=\"Read the latest issue of Poetry magazine-- the oldest monthly devoted to verse in the English speaking world-- or browse over 100 years of the magazine in the archive featuring poems and prose by T.S. Eliot and Ezra Pound among others.\" name=\"description\"/>,\n",
       " <meta content=\"text/html; charset=utf-8\" http-equiv=\"Content-Type\"/>,\n",
       " <meta content=\"IE=EmulateIE7\" http-equiv=\"X-UA-Compatible\"/>,\n",
       " <script type=\"text/javascript\">window.NREUM||(NREUM={}),__nr_require=function(e,n,t){function r(t){if(!n[t]){var o=n[t]={exports:{}};e[t][0].call(o.exports,function(n){var o=e[t][1][n];return r(o?o:n)},o,o.exports)}return n[t].exports}if(\"function\"==typeof __nr_require)return __nr_require;for(var o=0;o<t.length;o++)r(t[o]);return r}({QJf3ax:[function(e,n){function t(e){function n(n,t,a){e&&e(n,t,a),a||(a={});for(var u=c(n),f=u.length,s=i(a,o,r),p=0;f>p;p++)u[p].apply(s,t);return s}function a(e,n){f[e]=c(e).concat(n)}function c(e){return f[e]||[]}function u(){return t(n)}var f={};return{on:a,emit:n,create:u,listeners:c,_events:f}}function r(){return{}}var o=\"nr@context\",i=e(\"gos\");n.exports=t()},{gos:\"7eSDFh\"}],ee:[function(e,n){n.exports=e(\"QJf3ax\")},{}],3:[function(e,n){function t(e){return function(){r(e,[(new Date).getTime()].concat(i(arguments)))}}var r=e(\"handle\"),o=e(1),i=e(2);\"undefined\"==typeof window.newrelic&&(newrelic=window.NREUM);var a=[\"setPageViewName\",\"addPageAction\",\"setCustomAttribute\",\"finished\",\"addToTrace\",\"inlineHit\",\"noticeError\"];o(a,function(e,n){window.NREUM[n]=t(\"api-\"+n)}),n.exports=window.NREUM},{1:12,2:13,handle:\"D5DuLP\"}],\"7eSDFh\":[function(e,n){function t(e,n,t){if(r.call(e,n))return e[n];var o=t();if(Object.defineProperty&&Object.keys)try{return Object.defineProperty(e,n,{value:o,writable:!0,enumerable:!1}),o}catch(i){}return e[n]=o,o}var r=Object.prototype.hasOwnProperty;n.exports=t},{}],gos:[function(e,n){n.exports=e(\"7eSDFh\")},{}],handle:[function(e,n){n.exports=e(\"D5DuLP\")},{}],D5DuLP:[function(e,n){function t(e,n,t){return r.listeners(e).length?r.emit(e,n,t):(o[e]||(o[e]=[]),void o[e].push(n))}var r=e(\"ee\").create(),o={};n.exports=t,t.ee=r,r.q=o},{ee:\"QJf3ax\"}],id:[function(e,n){n.exports=e(\"XL7HBI\")},{}],XL7HBI:[function(e,n){function t(e){var n=typeof e;return!e||\"object\"!==n&&\"function\"!==n?-1:e===window?0:i(e,o,function(){return r++})}var r=1,o=\"nr@id\",i=e(\"gos\");n.exports=t},{gos:\"7eSDFh\"}],G9z0Bl:[function(e,n){function t(){var e=d.info=NREUM.info,n=f.getElementsByTagName(\"script\")[0];if(e&&e.licenseKey&&e.applicationID&&n){c(p,function(n,t){n in e||(e[n]=t)});var t=\"https\"===s.split(\":\")[0]||e.sslForHttp;d.proto=t?\"https://\":\"http://\",a(\"mark\",[\"onload\",i()]);var r=f.createElement(\"script\");r.src=d.proto+e.agent,n.parentNode.insertBefore(r,n)}}function r(){\"complete\"===f.readyState&&o()}function o(){a(\"mark\",[\"domContent\",i()])}function i(){return(new Date).getTime()}var a=e(\"handle\"),c=e(1),u=(e(2),window),f=u.document,s=(\"\"+location).split(\"?\")[0],p={beacon:\"bam.nr-data.net\",errorBeacon:\"bam.nr-data.net\",agent:\"js-agent.newrelic.com/nr-632.min.js\"},d=n.exports={offset:i(),origin:s,features:{}};f.addEventListener?(f.addEventListener(\"DOMContentLoaded\",o,!1),u.addEventListener(\"load\",t,!1)):(f.attachEvent(\"onreadystatechange\",r),u.attachEvent(\"onload\",t)),a(\"mark\",[\"firstbyte\",i()])},{1:12,2:3,handle:\"D5DuLP\"}],loader:[function(e,n){n.exports=e(\"G9z0Bl\")},{}],12:[function(e,n){function t(e,n){var t=[],o=\"\",i=0;for(o in e)r.call(e,o)&&(t[i]=n(o,e[o]),i+=1);return t}var r=Object.prototype.hasOwnProperty;n.exports=t},{}],13:[function(e,n){function t(e,n,t){n||(n=0),\"undefined\"==typeof t&&(t=e?e.length:0);for(var r=-1,o=t-n||0,i=Array(0>o?0:o);++r<o;)i[r]=e[n+r];return i}n.exports=t},{}]},{},[\"G9z0Bl\"]);</script>,\n",
       " <meta content=\"http://www.poetryfoundation.org/images/pegasus2.png\" property=\"og:image\"/>,\n",
       " <meta content=\"Current Issue : Poetry Magazine\" property=\"og:title\"/>,\n",
       " <meta content=\"Read the latest issue of Poetry magazine-- the oldest monthly devoted to verse in the English speaking world-- or browse over 100 years of the magazine in the archive featuring poems and prose by T.S. Eliot and Ezra Pound among others.\" property=\"og:description\"/>,\n",
       " <meta content=\"ea8d9fd2ccbaf6f9997edb56f3ee7e61\" name=\"p:domain_verify\"/>,\n",
       " <link href=\"/css/style.css?v=2015-07-14\" media=\"all\" rel=\"stylesheet\" type=\"text/css\"/>,\n",
       " <link href=\"/css/print.css?v=2011-06-09\" media=\"print\" rel=\"stylesheet\" type=\"text/css\"/>,\n",
       " <link href=\"/css/prettyPhoto.css?r=2\" media=\"screen\" rel=\"stylesheet\" type=\"text/css\"/>,\n",
       " <script src=\"/js/jquery.min.js\" type=\"text/javascript\"></script>,\n",
       " <script src=\"/jwplayer6/jwplayer.js\" type=\"text/javascript\"></script>,\n",
       " <script src=\"https://ajax.googleapis.com/ajax/libs/jqueryui/1.8/jquery-ui.min.js\"></script>,\n",
       " <link href=\"https://ajax.googleapis.com/ajax/libs/jqueryui/1.8.0/themes/smoothness/jquery-ui.css\" rel=\"stylesheet\" type=\"text/css\"/>,\n",
       " <script src=\"/js/autocomplete.js\"></script>]"
      ]
     },
     "execution_count": 4,
     "metadata": {},
     "output_type": "execute_result"
    }
   ],
   "source": [
    "soup.head()"
   ]
  },
  {
   "cell_type": "code",
   "execution_count": 5,
   "metadata": {
    "collapsed": false
   },
   "outputs": [],
   "source": [
    "issue = re.sub(' : Poetry Magazine', '', soup.title.string)\n",
    "all_item_tags = soup.findAll('a', href=re.compile('.*/poem/.*'))"
   ]
  },
  {
   "cell_type": "code",
   "execution_count": 6,
   "metadata": {
    "collapsed": false
   },
   "outputs": [],
   "source": [
    "listentries =[]\n",
    "for l in all_item_tags:\n",
    "    poemtitle = l.get_text().encode('ascii','ignore')\n",
    "    poemurl = 'http://www.poetryfoundation.org' + l.get('href')\n",
    "#     poetname = poetname.encode('ascii', 'ignore')\n",
    "    issue = re.sub(' : Poetry Magazine', '', issue).encode('ascii', 'ignore')\n",
    "    dict1 = {'Issue': issue, 'PoemTitle': poemtitle, 'PoemUrl': poemurl }\n",
    "    listentries.append(dict1)\n",
    "                    "
   ]
  },
  {
   "cell_type": "code",
   "execution_count": 7,
   "metadata": {
    "collapsed": false
   },
   "outputs": [
    {
     "data": {
      "text/plain": [
       "[{'Issue': 'Current Issue',\n",
       "  'PoemTitle': 'Five Yellow Roses',\n",
       "  'PoemUrl': 'http://www.poetryfoundation.org/poem/250912'}]"
      ]
     },
     "execution_count": 7,
     "metadata": {},
     "output_type": "execute_result"
    }
   ],
   "source": [
    "listentries[:1]"
   ]
  },
  {
   "cell_type": "code",
   "execution_count": 30,
   "metadata": {
    "collapsed": false
   },
   "outputs": [
    {
     "name": "stdout",
     "output_type": "stream",
     "text": [
      "HTTP Error 404: Not Found\n",
      "HTTP Error 404: Not Found\n",
      "HTTP Error 404: Not Found\n",
      "HTTP Error 404: Not Found\n",
      "HTTP Error 404: Not Found\n",
      "HTTP Error 404: Not Found\n",
      "HTTP Error 404: Not Found\n",
      "HTTP Error 404: Not Found\n",
      "HTTP Error 404: Not Found\n",
      "HTTP Error 404: Not Found\n"
     ]
    }
   ],
   "source": [
    "listentries=[]\n",
    "for issue in range(2300,2484):\n",
    "    url = \"http://www.poetryfoundation.org/poetrymagazine/toc/\" + str(issue)\n",
    "#     page = urllib2.urlopen(url)\n",
    "#     soup = BeautifulSoup(page.read())\n",
    "    try:\n",
    "        page = urllib2.urlopen(url)\n",
    "        soup = BeautifulSoup(page.read())\n",
    "        issue = re.sub(' : Poetry Magazine', '', soup.title.string)\n",
    "        all_item_tags = soup.findAll('a', href=re.compile('.*/poem/.*'))\n",
    "        for i in all_item_tags:\n",
    "            poemtitle = i.get_text().encode('ascii','ignore')\n",
    "            poemurl = 'http://www.poetryfoundation.org' + i.get('href')\n",
    "#     poetname = poetname.encode('ascii', 'ignore')\n",
    "            issue = re.sub(' : Poetry Magazine', '', issue).encode('ascii', 'ignore')\n",
    "            dict1 = {'Issue': issue, 'PoemTitle': poemtitle, 'PoemUrl': poemurl }\n",
    "            listentries.append(dict1)\n",
    "\n",
    "    except Exception, e: \n",
    "        print e\n",
    "        continue\n"
   ]
  },
  {
   "cell_type": "code",
   "execution_count": 32,
   "metadata": {
    "collapsed": false
   },
   "outputs": [
    {
     "name": "stdout",
     "output_type": "stream",
     "text": [
      "[{'PoemTitle': 'from Deaf Republic: 1', 'Issue': 'May 2009', 'PoemUrl': 'http://www.poetryfoundation.org/poem/236634'}, {'PoemTitle': 'from Deaf Republic: 2. 9AM Bombardment', 'Issue': 'May 2009', 'PoemUrl': 'http://www.poetryfoundation.org/poem/236690'}, {'PoemTitle': 'from Deaf Republic: 4', 'Issue': 'May 2009', 'PoemUrl': 'http://www.poetryfoundation.org/poem/236694'}, {'PoemTitle': 'from Deaf Republic: 5. And They Drag The Living Body In The Sunlit Piazza', 'Issue': 'May 2009', 'PoemUrl': 'http://www.poetryfoundation.org/poem/236696'}, {'PoemTitle': 'from Deaf Republic: 6', 'Issue': 'May 2009', 'PoemUrl': 'http://www.poetryfoundation.org/poem/236698'}, {'PoemTitle': 'from Deaf Republic: 7. Sonya Considers Happiness', 'Issue': 'May 2009', 'PoemUrl': 'http://www.poetryfoundation.org/poem/236700'}]\n"
     ]
    },
    {
     "data": {
      "text/plain": [
       "3652"
      ]
     },
     "execution_count": 32,
     "metadata": {},
     "output_type": "execute_result"
    }
   ],
   "source": [
    "print listentries[:6]\n",
    "#Create Pandas DataFrame to contain all the entries from pmag site\n",
    "pmagdf = pd.DataFrame(listentries)\n",
    "len(pmagdf)"
   ]
  },
  {
   "cell_type": "code",
   "execution_count": 33,
   "metadata": {
    "collapsed": false
   },
   "outputs": [
    {
     "name": "stdout",
     "output_type": "stream",
     "text": [
      "http://www.poetryfoundation.org/poem/236634\n",
      "http://www.poetryfoundation.org/poem/236690\n",
      "http://www.poetryfoundation.org/poem/236694\n",
      "http://www.poetryfoundation.org/poem/236696\n",
      "http://www.poetryfoundation.org/poem/236698\n",
      "http://www.poetryfoundation.org/poem/236700\n",
      "http://www.poetryfoundation.org/poem/236704\n",
      "http://www.poetryfoundation.org/poem/236706\n",
      "http://www.poetryfoundation.org/poem/236708\n",
      "http://www.poetryfoundation.org/poem/236710\n"
     ]
    }
   ],
   "source": [
    "for i in listentries[:10]:\n",
    "    print i.get(\"PoemUrl\")\n",
    "#     try:\n",
    "#         page = urllib2.urlopen(url)\n",
    "#         soup = BeautifulSoup(page.read())\n",
    "        "
   ]
  },
  {
   "cell_type": "code",
   "execution_count": 53,
   "metadata": {
    "collapsed": false
   },
   "outputs": [
    {
     "name": "stdout",
     "output_type": "stream",
     "text": [
      "http://www.poetryfoundation.org/poem/245040\n"
     ]
    }
   ],
   "source": [
    "url = \"http://www.poetryfoundation.org/poem/245040\"\n",
    "# listentries[1].get(\"PoemUrl\")\n",
    "print url\n",
    "page = urllib2.urlopen(url+\"#about\")\n",
    "soup = BeautifulSoup(page.read())"
   ]
  },
  {
   "cell_type": "code",
   "execution_count": 54,
   "metadata": {
    "collapsed": false
   },
   "outputs": [],
   "source": [
    "a = soup.findAll(\"span\", { \"class\" : \"author\" })"
   ]
  },
  {
   "cell_type": "code",
   "execution_count": 55,
   "metadata": {
    "collapsed": false
   },
   "outputs": [
    {
     "data": {
      "text/plain": [
       "[<span class=\"text\"><a href=\"/browse/poets#school-period=3\">Beat</a></span>,\n",
       " <span class=\"text\"><a href=\"/browse/#subject=77\">Relationships</a>, </span>,\n",
       " <span class=\"text\"><a href=\"/browse/#subject=42\">Nature</a>, </span>,\n",
       " <span class=\"text\"><a href=\"/browse/#subject=34\">Winter</a>, </span>,\n",
       " <span class=\"text\"><a href=\"/browse/#subject=67\">Religion</a>, </span>,\n",
       " <span class=\"text\"><a href=\"/browse/#subject=82\">God &amp; the Divine</a>, </span>,\n",
       " <span class=\"text\"><a href=\"/browse/#subject=103\">The Spiritual</a>, </span>,\n",
       " <span class=\"text\"><a href=\"/browse/#subject=61\">Social Commentaries</a></span>,\n",
       " <span class=\"text\"><a href=\"/browse/poets#school-period=3\">Beat</a></span>,\n",
       " <span class=\"text\"><a href=\"/browse/#poetic-terms=21\">Free Verse</a></span>]"
      ]
     },
     "execution_count": 55,
     "metadata": {},
     "output_type": "execute_result"
    }
   ],
   "source": [
    "b = soup.findAll(\"span\", { \"class\" : \"text\" })\n",
    "b"
   ]
  },
  {
   "cell_type": "code",
   "execution_count": 47,
   "metadata": {
    "collapsed": false
   },
   "outputs": [
    {
     "data": {
      "text/plain": [
       "bs4.element.ResultSet"
      ]
     },
     "execution_count": 47,
     "metadata": {},
     "output_type": "execute_result"
    }
   ],
   "source": [
    "c = a[0].findAll(\"a\")\n",
    "type(c)"
   ]
  },
  {
   "cell_type": "code",
   "execution_count": 49,
   "metadata": {
    "collapsed": false
   },
   "outputs": [
    {
     "name": "stdout",
     "output_type": "stream",
     "text": [
      " Ilya  Kaminsky\n"
     ]
    }
   ],
   "source": [
    "for r in c:\n",
    "    print r.string"
   ]
  },
  {
   "cell_type": "code",
   "execution_count": 51,
   "metadata": {
    "collapsed": false
   },
   "outputs": [
    {
     "name": "stdout",
     "output_type": "stream",
     "text": [
      "b. 1977\n"
     ]
    }
   ],
   "source": [
    "d = a[0].findAll(\"span\",{\"class\":\"birthyear\"})\n",
    "for r in d:\n",
    "    print r.string"
   ]
  },
  {
   "cell_type": "code",
   "execution_count": 62,
   "metadata": {
    "collapsed": false
   },
   "outputs": [
    {
     "name": "stdout",
     "output_type": "stream",
     "text": [
      "<a href=\"/browse/poets#school-period=3\">Beat</a>\n"
     ]
    }
   ],
   "source": [
    "e = soup.findAll('a', href = re.compile('browse/poets#school-period.*'))\n",
    "print e[0]"
   ]
  },
  {
   "cell_type": "code",
   "execution_count": 64,
   "metadata": {
    "collapsed": true
   },
   "outputs": [],
   "source": [
    "page = urllib2.urlopen(url+\"#poem\")\n",
    "soup = BeautifulSoup(page.read())"
   ]
  },
  {
   "cell_type": "code",
   "execution_count": 68,
   "metadata": {
    "collapsed": false
   },
   "outputs": [],
   "source": [
    "p = soup.findAll('div', {'class':'poem'})"
   ]
  },
  {
   "cell_type": "code",
   "execution_count": 73,
   "metadata": {
    "collapsed": false
   },
   "outputs": [
    {
     "name": "stdout",
     "output_type": "stream",
     "text": [
      "\n",
      "In the shape of this night, in the still fall\n",
      "         of snow, Father\n",
      " In all that is cold and tiny, these little birds\n",
      "         and children\n",
      " In everything that moves tonight, the trolleys\n",
      "         and the lovers, Father\n",
      " In the great hush of country, in the ugly noise\n",
      "         of our cities\n",
      " In this deep throw of stars, in those trenches\n",
      "         where the dead are, Father\n",
      " In all the wide land waiting, and in the liners\n",
      "         out on the black water\n",
      " In all that has been said bravely, in all that is\n",
      "         mean anywhere in the world, Father\n",
      " In all that is good and lovely, in every house\n",
      "         where sham and hatred are\n",
      " In the name of those who wait, in the sound\n",
      "         of angry voices, Father\n",
      " Before the bells ring, before this little point in time\n",
      "         has rushed us on\n",
      " Before this clean moment has gone, before this night\n",
      "         turns to face tomorrow, Father\n",
      " There is this high singing in the air\n",
      " Forever this sorrowful human face in eternity’s window\n",
      " And there are other bells that we would ring, Father\n",
      " Other bells that we would ring.\n",
      "\n"
     ]
    }
   ],
   "source": [
    "parser = HTMLParser.HTMLParser()\n",
    "for line in poemContent:\n",
    "    text = parser.unescape(line.text)\n",
    "    l = text.encode('utf8')\n",
    "    print l"
   ]
  }
 ],
 "metadata": {
  "kernelspec": {
   "display_name": "Python 2",
   "language": "python",
   "name": "python2"
  },
  "language_info": {
   "codemirror_mode": {
    "name": "ipython",
    "version": 2
   },
   "file_extension": ".py",
   "mimetype": "text/x-python",
   "name": "python",
   "nbconvert_exporter": "python",
   "pygments_lexer": "ipython2",
   "version": "2.7.10"
  }
 },
 "nbformat": 4,
 "nbformat_minor": 0
}
